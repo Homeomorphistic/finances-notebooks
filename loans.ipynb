{
 "cells": [
  {
   "cell_type": "code",
   "execution_count": 20,
   "metadata": {},
   "outputs": [],
   "source": [
    "#! pip install ipywidgets\n",
    "#! jupyter nbextension enable --py widgetsnbextension --sys-prefix\n",
    "from ipywidgets import interact\n",
    "from ipywidgets.widgets import FloatText, BoundedIntText, FloatSlider, IntSlider, IntRangeSlider, fixed, Text"
   ]
  },
  {
   "cell_type": "code",
   "execution_count": 15,
   "metadata": {},
   "outputs": [],
   "source": [
    "# Widgets for interactive functions / plots\n",
    "style = {'description_width': 'initial'}\n",
    "\n",
    "debt_text = FloatText(value=100000, step=100, description='Debt:')\n",
    "\n",
    "payoff_slider = FloatSlider(value=1000, step=10, min=500, max=10_000, description='Monthly pay off:', style=style)\n",
    "\n",
    "interest_slider = FloatSlider(value=0.15, step=0.01, min=0, max=0.25, description='Interest:')\n",
    "interest_text = Text(value='0.05, 0.05, 0.05, 0.05, 0.05, 0.05', description=\"Interests\")\n",
    "\n",
    "tax_slider = FloatSlider(value=0.19, step=0.01, min=0, max=0.30, description='Tax:')\n",
    "\n",
    "months_slider = IntSlider(value=1, step=1, min=1, max=360, description='Months:')\n",
    "years_range_slider = IntRangeSlider(value=(1, 40), step=1, min=1, max=100, description='Years:')"
   ]
  },
  {
   "cell_type": "markdown",
   "metadata": {},
   "source": [
    "# Loans"
   ]
  },
  {
   "cell_type": "markdown",
   "metadata": {},
   "source": [
    "### Mortgage\n",
    "\n",
    "We know already that if we have initial deposit $D_0$ and different contribution per compound $c$ then the general formula for $D_n$:\n",
    "\\begin{equation}\n",
    "$D_n = D_0 q^{nm} + c \\sum_{i=0}^{nm-1} q^i = D_0 q^{nm} + c \\cdot \\frac{1 - q^{nm}}{1-q}$.\n",
    "\\end{equation}\n",
    "\n",
    "Deposits and debts are actually the same thing -- there are just different sides of contract. In deposit you loan money to the bank and in return get some interests, just like with debt. This is why we can use formulas from deposits, but we need to change initial deposit to be negative, as to represent our debt and contributions will be added to negative amount so that we are getting closer to paying it of."
   ]
  },
  {
   "cell_type": "code",
   "execution_count": 11,
   "metadata": {},
   "outputs": [],
   "source": [
    "def debt(debt: float, n: int, payoff: float, interest: float, tax: float = 0.19):\n",
    "    \"\"\"Calculate debt amount after n compound periods.\"\"\"\n",
    "    r = interest / 12 * (1-tax)\n",
    "    d_n = (debt * (1 + r) ** n + payoff * (1 - (1+r)**n) / (-r))\n",
    "    return d_n"
   ]
  },
  {
   "cell_type": "code",
   "execution_count": 15,
   "metadata": {},
   "outputs": [
    {
     "name": "stdout",
     "output_type": "stream",
     "text": [
      "period=1 with payoff, debt=-99569.11\n",
      "period=2 with payoff, debt=-99133.86\n",
      "period=3 with payoff, debt=-98694.20\n",
      "period=4 with payoff, debt=-98250.09\n",
      "period=5 with payoff, debt=-97801.48\n",
      "period=6 with payoff, debt=-97348.33\n",
      "period=7 with payoff, debt=-96890.59\n",
      "period=8 with payoff, debt=-96428.22\n",
      "period=9 with payoff, debt=-95961.16\n",
      "period=10 with payoff, debt=-95489.38\n",
      "period=11 with payoff, debt=-95012.82\n",
      "period=12 with payoff, debt=-94531.43\n",
      "period=13 with payoff, debt=-94045.18\n",
      "period=14 with payoff, debt=-93553.99\n",
      "period=15 with payoff, debt=-93057.84\n",
      "period=16 with payoff, debt=-92556.66\n",
      "period=17 with payoff, debt=-92050.40\n",
      "period=18 with payoff, debt=-91539.02\n",
      "period=19 with payoff, debt=-91022.47\n",
      "period=20 with payoff, debt=-90500.68\n",
      "period=21 with payoff, debt=-89973.61\n",
      "period=22 with payoff, debt=-89441.20\n",
      "period=23 with payoff, debt=-88903.40\n",
      "period=24 with payoff, debt=-88360.16\n",
      "period=25 with payoff, debt=-87811.42\n",
      "period=26 with payoff, debt=-87257.12\n",
      "period=27 with payoff, debt=-86697.21\n",
      "period=28 with payoff, debt=-86131.63\n",
      "period=29 with payoff, debt=-85560.32\n",
      "period=30 with payoff, debt=-84983.23\n",
      "period=31 with payoff, debt=-84400.29\n",
      "period=32 with payoff, debt=-83811.45\n",
      "period=33 with payoff, debt=-83216.66\n",
      "period=34 with payoff, debt=-82615.83\n",
      "period=35 with payoff, debt=-82008.93\n",
      "period=36 with payoff, debt=-81395.88\n",
      "period=37 with payoff, debt=-80776.62\n",
      "period=38 with payoff, debt=-80151.10\n",
      "period=39 with payoff, debt=-79519.24\n",
      "period=40 with payoff, debt=-78880.98\n",
      "period=41 with payoff, debt=-78236.26\n",
      "period=42 with payoff, debt=-77585.01\n",
      "period=43 with payoff, debt=-76927.17\n",
      "period=44 with payoff, debt=-76262.67\n",
      "period=45 with payoff, debt=-75591.44\n",
      "period=46 with payoff, debt=-74913.41\n",
      "period=47 with payoff, debt=-74228.52\n",
      "period=48 with payoff, debt=-73536.69\n",
      "period=49 with payoff, debt=-72837.86\n",
      "period=50 with payoff, debt=-72131.95\n",
      "period=51 with payoff, debt=-71418.90\n",
      "period=52 with payoff, debt=-70698.63\n",
      "period=53 with payoff, debt=-69971.06\n",
      "period=54 with payoff, debt=-69236.13\n",
      "period=55 with payoff, debt=-68493.75\n",
      "period=56 with payoff, debt=-67743.86\n",
      "period=57 with payoff, debt=-66986.38\n",
      "period=58 with payoff, debt=-66221.22\n",
      "period=59 with payoff, debt=-65448.32\n",
      "period=60 with payoff, debt=-64667.60\n",
      "period=61 with payoff, debt=-63878.97\n",
      "period=62 with payoff, debt=-63082.35\n",
      "period=63 with payoff, debt=-62277.67\n",
      "period=64 with payoff, debt=-61464.84\n",
      "period=65 with payoff, debt=-60643.78\n",
      "period=66 with payoff, debt=-59814.41\n",
      "period=67 with payoff, debt=-58976.64\n",
      "period=68 with payoff, debt=-58130.39\n",
      "period=69 with payoff, debt=-57275.57\n",
      "period=70 with payoff, debt=-56412.10\n",
      "period=71 with payoff, debt=-55539.88\n",
      "period=72 with payoff, debt=-54658.83\n",
      "period=73 with payoff, debt=-53768.86\n",
      "period=74 with payoff, debt=-52869.88\n",
      "period=75 with payoff, debt=-51961.80\n",
      "period=76 with payoff, debt=-51044.52\n",
      "period=77 with payoff, debt=-50117.96\n",
      "period=78 with payoff, debt=-49182.01\n",
      "period=79 with payoff, debt=-48236.59\n",
      "period=80 with payoff, debt=-47281.60\n",
      "period=81 with payoff, debt=-46316.93\n",
      "period=82 with payoff, debt=-45342.50\n",
      "period=83 with payoff, debt=-44358.20\n",
      "period=84 with payoff, debt=-43363.94\n",
      "period=85 with payoff, debt=-42359.61\n",
      "period=86 with payoff, debt=-41345.11\n",
      "period=87 with payoff, debt=-40320.34\n",
      "period=88 with payoff, debt=-39285.20\n",
      "period=89 with payoff, debt=-38239.57\n",
      "period=90 with payoff, debt=-37183.35\n",
      "period=91 with payoff, debt=-36116.44\n",
      "period=92 with payoff, debt=-35038.73\n",
      "period=93 with payoff, debt=-33950.11\n",
      "period=94 with payoff, debt=-32850.47\n",
      "period=95 with payoff, debt=-31739.69\n",
      "period=96 with payoff, debt=-30617.66\n",
      "period=97 with payoff, debt=-29484.27\n",
      "period=98 with payoff, debt=-28339.41\n",
      "period=99 with payoff, debt=-27182.96\n",
      "period=100 with payoff, debt=-26014.80\n",
      "period=101 with payoff, debt=-24834.81\n",
      "period=102 with payoff, debt=-23642.87\n",
      "period=103 with payoff, debt=-22438.86\n",
      "period=104 with payoff, debt=-21222.67\n",
      "period=105 with payoff, debt=-19994.16\n",
      "period=106 with payoff, debt=-18753.21\n",
      "period=107 with payoff, debt=-17499.69\n",
      "period=108 with payoff, debt=-16233.49\n",
      "period=109 with payoff, debt=-14954.46\n",
      "period=110 with payoff, debt=-13662.49\n",
      "period=111 with payoff, debt=-12357.43\n",
      "period=112 with payoff, debt=-11039.16\n",
      "period=113 with payoff, debt=-9707.54\n",
      "period=114 with payoff, debt=-8362.44\n",
      "period=115 with payoff, debt=-7003.72\n",
      "period=116 with payoff, debt=-5631.24\n",
      "period=117 with payoff, debt=-4244.87\n",
      "period=118 with payoff, debt=-2844.46\n",
      "period=119 with payoff, debt=-1429.87\n",
      "period=120 with payoff, debt=-0.95\n"
     ]
    }
   ],
   "source": [
    "def debt_test(debt: float, n: int, payoff: float, interest: float, tax: float = 0.19):\n",
    "    \"\"\"Compute debt amount after n compound periods.\"\"\"\n",
    "    d_n = debt\n",
    "    r = interest / 12 * (1-tax)\n",
    "    for i in range(n):\n",
    "        d_n = d_n * (1+r) + payoff\n",
    "        print(f'period={i+1} with payoff, debt={d_n:.2f}')\n",
    "    return d_n\n",
    "\n",
    "d1 = debt(debt=-100_000, n=120, payoff=1443.39, interest=0.15)\n",
    "d2 = debt_test(debt=-100_000, n=120, payoff=1443.39, interest=0.15)"
   ]
  },
  {
   "cell_type": "markdown",
   "metadata": {},
   "source": [
    "## Amount of payoff\n",
    "We are interested in the amount of payoff per period $c$ given initial debt $D_0$, $p\\%$ interest rate, $s\\%$ tax fee and $m=12$ frequency of compounding. Let's denote $q = 1 +r, \\; r = \\frac{p}{m} \\cdot (1-s)$ To get formula for it, we need to know the number of periods $N=nm$ we want to pay off debt. Paying off the debt in $N$ periods mean we have equation $D_n = 0$:\n",
    "\n",
    "\\begin{align}\n",
    "    D_0 q^{nm} + c \\cdot \\frac{1 - q^N}{1-q} = 0 \\\\\n",
    "    c = \\frac{-D_0 q^N (1-q)}{1-q^N}\n",
    "\\end{align}\n",
    "\n",
    "\n"
   ]
  },
  {
   "cell_type": "code",
   "execution_count": 18,
   "metadata": {},
   "outputs": [
    {
     "data": {
      "text/plain": "1890.565790821865"
     },
     "execution_count": 18,
     "metadata": {},
     "output_type": "execute_result"
    }
   ],
   "source": [
    "def payoff(debt: float, N: int, interest: float, tax: float = 0.19):\n",
    "    q = 1 + interest / 12 * (1-tax)\n",
    "    return debt * q**N * (1 - q) / (1 - q**N)\n",
    "\n",
    "payoff(debt=100_000, N=120, interest=0.15)"
   ]
  },
  {
   "cell_type": "code",
   "execution_count": 17,
   "metadata": {
    "pycharm": {
     "is_executing": true
    }
   },
   "outputs": [
    {
     "data": {
      "application/vnd.jupyter.widget-view+json": {
       "model_id": "c92bbe91fd74458d8cae770638cf0b5a",
       "version_major": 2,
       "version_minor": 0
      },
      "text/plain": [
       "interactive(children=(FloatText(value=100000.0, description='Debt:', step=100.0), IntSlider(value=87, descript…"
      ]
     },
     "metadata": {},
     "output_type": "display_data"
    }
   ],
   "source": [
    "def payoff_print(debt: float, N: int, interest: float, tax: float = 0.19):\n",
    "    return f'Pay off monthly: {payoff(debt, N, interest, tax):.2f}'\n",
    "interact(payoff_print, debt=debt_text, N=months_slider, interest=interest_slider, tax=tax_slider);"
   ]
  },
  {
   "cell_type": "markdown",
   "metadata": {},
   "source": [
    "## Number of periods\n",
    "We are interested in the number of periods $N$ we need to pay off the debt $D_0$, with $p\\%$ interest rate, $s\\%$ tax fee and $m=12$ frequency of compounding. Let's denote $q = 1 +r, \\; r = \\frac{p}{m} \\cdot (1-s)$ To get formula for it, we need to know the amount of money we are willing to pay monthly. Using the same equation as before:\n",
    "\n",
    "\\begin{align}\n",
    "    D_0 q^{nm} + c \\cdot \\frac{1 - q^N}{1-q} = 0 \\\\\n",
    "    N = \\log_q (c) - \\log_q \\left( -D_0(1-q) + c \\right)\n",
    "\\end{align}"
   ]
  },
  {
   "cell_type": "code",
   "execution_count": 13,
   "metadata": {},
   "outputs": [
    {
     "data": {
      "text/plain": [
       "120.00001737331263"
      ]
     },
     "execution_count": 13,
     "metadata": {},
     "output_type": "execute_result"
    }
   ],
   "source": [
    "from math import log\n",
    "def num_months(debt: float, payoff: float, interest: float, tax: float = 0.19):\n",
    "    q = 1 + interest / 12 * (1-tax)\n",
    "    return log(payoff, q) - log(debt * (1-q) + payoff, q)\n",
    "\n",
    "num_months(debt=100_000, payoff=1443.394, interest=0.15)"
   ]
  },
  {
   "cell_type": "code",
   "execution_count": 14,
   "metadata": {},
   "outputs": [
    {
     "data": {
      "application/vnd.jupyter.widget-view+json": {
       "model_id": "d281b28cd0a04de7ab4a9b3847afa1dc",
       "version_major": 2,
       "version_minor": 0
      },
      "text/plain": [
       "interactive(children=(FloatText(value=100000.0, description='Debt:', step=100.0), FloatSlider(value=1000.0, de…"
      ]
     },
     "metadata": {},
     "output_type": "display_data"
    }
   ],
   "source": [
    "def num_months_print(debt: float, payoff: float, interest: float, tax: float = 0.19):\n",
    "    return f'Months : {num_months(debt, payoff, interest, tax):.2f}'\n",
    "interact(num_months_print, debt=debt_text, payoff=payoff_slider, interest=interest_slider, tax=tax_slider);"
   ]
  }
 ],
 "metadata": {
  "kernelspec": {
   "display_name": "Python 3 (ipykernel)",
   "language": "python",
   "name": "python3"
  },
  "language_info": {
   "codemirror_mode": {
    "name": "ipython",
    "version": 3
   },
   "file_extension": ".py",
   "mimetype": "text/x-python",
   "name": "python",
   "nbconvert_exporter": "python",
   "pygments_lexer": "ipython3",
   "version": "3.11.1"
  }
 },
 "nbformat": 4,
 "nbformat_minor": 1
}
