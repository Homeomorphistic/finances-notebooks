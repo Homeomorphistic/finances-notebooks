{
 "cells": [
  {
   "cell_type": "code",
   "execution_count": null,
   "metadata": {
    "collapsed": true
   },
   "outputs": [],
   "source": [
    "#! pip install ipywidgets\n",
    "#! jupyter nbextension enable --py widgetsnbextension --sys-prefix\n",
    "from ipywidgets import interact\n",
    "from ipywidgets.widgets import FloatText, BoundedIntText, FloatSlider, IntSlider, IntRangeSlider, fixed, Text\n",
    "\n",
    "import numpy as np\n",
    "import matplotlib.pyplot as plt"
   ]
  },
  {
   "cell_type": "markdown",
   "source": [
    "### Compound interest\n",
    "Let $D_0$ be initial deposit, $n$ number of periods, $p \\in [0,1]$ periodic interest rate, $D_n$ deposit after $n$ periods, then\n",
    "\\begin{equation}\n",
    "    D_n = D_0 (1 + p)^n.\n",
    "\\end{equation}"
   ],
   "metadata": {
    "collapsed": false
   }
  },
  {
   "cell_type": "code",
   "execution_count": null,
   "outputs": [],
   "source": [
    "def compound(d_0: float, n: int, p: float):\n",
    "    \"\"\"Calculate compound interest of initial deposit d_0 after n periods.\n",
    "\n",
    "    :param d_0: initial deposit\n",
    "    :param n: number of periods\n",
    "    :param p: periodic interest rate\n",
    "    :return: deposit after n periods\n",
    "    \"\"\"\n",
    "    return d_0 * (1 + p)**n"
   ],
   "metadata": {
    "collapsed": false
   }
  },
  {
   "cell_type": "markdown",
   "source": [
    "### Compounding frequency\n",
    "If we divide period into $m$ equal chunks and compound more frequently, then\n",
    "\\begin{equation}\n",
    "    D_n = D_0 \\left(1 + \\frac{p}{m} \\right)^{mn}.\n",
    "\\end{equation}"
   ],
   "metadata": {
    "collapsed": false
   }
  },
  {
   "cell_type": "code",
   "execution_count": null,
   "outputs": [],
   "source": [
    "def compound_frequently(d_0: float, n: int, p: float, m: int):\n",
    "    \"\"\"Calculate compound interest of initial deposit d_0 after n periods with compounding frequency m.\n",
    "\n",
    "    :param d_0: initial deposit\n",
    "    :param n: number of periods\n",
    "    :param p: periodic interest rate\n",
    "    :param m: compounding frequency\n",
    "    :return: deposit after n periods\n",
    "    \"\"\"\n",
    "    return compound(d_0, n*m, p/m)"
   ],
   "metadata": {
    "collapsed": false
   }
  },
  {
   "cell_type": "markdown",
   "source": [
    "### Continuous compounding\n",
    "When we divide into smaller and smaller chunks, so that $m \\rightarrow \\infty$\n",
    "\\begin{equation}\n",
    "    D_t = D_0 e^{pt}.\n",
    "\\end{equation}"
   ],
   "metadata": {
    "collapsed": false
   }
  },
  {
   "cell_type": "code",
   "execution_count": null,
   "outputs": [],
   "source": [
    "from math import log\n",
    "def compound_continuous(d_0: float, t: float, p: float):\n",
    "    return d_0 * log(p * t)"
   ],
   "metadata": {
    "collapsed": false
   }
  },
  {
   "cell_type": "code",
   "execution_count": null,
   "outputs": [],
   "source": [
    "def contribute_compound(d_0: float, n: int, p: float, c: float):\n",
    "    \"\"\"Calculate compound interest of initial deposit d_0 after n periods with contributions c per period.\n",
    "\n",
    "    :param d_0: initial deposit\n",
    "    :param n: number of periods\n",
    "    :param p: periodic interest rate\n",
    "    :param c: contribution to the deposit per period\n",
    "    :return: deposit after n periods\n",
    "    \"\"\"\n",
    "    return compound(d_0, n, p) + c * (1 - (1+p)**n) / (-p)\n",
    "\n",
    "def deposit(initial_deposit: float, periods: int, interest: float, frequency: int, inflation: float, tax: float=.19):\n",
    "    pass"
   ],
   "metadata": {
    "collapsed": false
   }
  },
  {
   "cell_type": "code",
   "execution_count": null,
   "outputs": [],
   "source": [
    "### Iterative approach, used later for testing\n"
   ],
   "metadata": {
    "collapsed": false
   }
  }
 ],
 "metadata": {
  "kernelspec": {
   "display_name": "Python 3",
   "language": "python",
   "name": "python3"
  },
  "language_info": {
   "codemirror_mode": {
    "name": "ipython",
    "version": 2
   },
   "file_extension": ".py",
   "mimetype": "text/x-python",
   "name": "python",
   "nbconvert_exporter": "python",
   "pygments_lexer": "ipython2",
   "version": "2.7.6"
  }
 },
 "nbformat": 4,
 "nbformat_minor": 0
}
