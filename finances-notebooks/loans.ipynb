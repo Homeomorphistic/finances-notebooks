{
 "cells": [
  {
   "cell_type": "code",
   "execution_count": 1,
   "metadata": {},
   "outputs": [],
   "source": [
    "#! pip install ipywidgets\n",
    "#! jupyter nbextension enable --py widgetsnbextension --sys-prefix\n",
    "from ipywidgets import interact\n",
    "from ipywidgets.widgets import FloatText, BoundedIntText, FloatSlider, IntSlider, IntRangeSlider, fixed, Text\n",
    "\n",
    "import numpy as np\n",
    "import matplotlib.pyplot as plt"
   ]
  },
  {
   "cell_type": "code",
   "execution_count": 2,
   "metadata": {},
   "outputs": [],
   "source": [
    "# Widgets for interactive functions / plots\n",
    "style = {'description_width': 'initial'}\n",
    "\n",
    "debt_text = FloatText(value=100000, step=100, description='Debt:')\n",
    "save_text = FloatText(value=100000, step=100, description='Amount to save:', style=style)\n",
    "monthly_save_text = FloatText(value=100000, step=100, description='Monthly saving:', style=style)\n",
    "\n",
    "payoff_slider = FloatSlider(value=1000, step=10, min=500, max=10_000, description='Monthly pay off:', style=style)\n",
    "rent_slider = FloatSlider(value=1000, step=10, min=500, max=10_000, description='Monthly rent:', style=style)\n",
    "\n",
    "utilities_slider = FloatSlider(value=800/2300, step=0.01, min=0, max=1, description='% of rent as utilities:', style=style)\n",
    "\n",
    "interest_slider = FloatSlider(value=0.15, step=0.01, min=0, max=0.25, description='Interest:')\n",
    "interest_text = Text(value='0.05, 0.05, 0.05, 0.05, 0.05, 0.05', description=\"Interests\")\n",
    "\n",
    "tax_slider = FloatSlider(value=0.19, step=0.01, min=0, max=0.30, description='Tax:')\n",
    "\n",
    "months_slider = IntSlider(value=1, step=1, min=1, max=360, description='Months:')\n",
    "years_range_slider = IntRangeSlider(value=(1, 40), step=1, min=1, max=100, description='Years:')"
   ]
  },
  {
   "cell_type": "markdown",
   "metadata": {},
   "source": [
    "# Loans"
   ]
  },
  {
   "cell_type": "markdown",
   "metadata": {},
   "source": [
    "### Mortgage\n",
    "\n",
    "We know already that if we have initial deposit $D_0$ and different contribution per compound $c$ then the general formula for $D_n$:\n",
    "\\begin{equation}\n",
    "$D_n = D_0 q^{nm} + c \\sum_{i=0}^{nm-1} q^i = D_0 q^{nm} + c \\cdot \\frac{1 - q^{nm}}{1-q}$.\n",
    "\\end{equation}\n",
    "\n",
    "Deposits and debts are actually the same thing -- there are just different sides of contract. In deposit you loan money to the bank and in return get some interests, just like with debt. This is why we can use formulas from deposits, but we need to change initial deposit to be negative, as to represent our debt and contributions will be added to negative amount so that we are getting closer to paying it of."
   ]
  },
  {
   "cell_type": "code",
   "execution_count": 3,
   "metadata": {},
   "outputs": [],
   "source": [
    "def debt(debt: float, n: int, payoff: float, interest: float, tax: float = 0.19):\n",
    "    \"\"\"Calculate debt amount after n compound periods.\"\"\"\n",
    "    r = interest / 12 * (1-tax)\n",
    "    d_n = (debt * (1 + r) ** n + payoff * (1 - (1+r)**n) / (-r))\n",
    "    return d_n"
   ]
  },
  {
   "cell_type": "code",
   "execution_count": 4,
   "metadata": {},
   "outputs": [],
   "source": [
    "def debt_test(debt: float, n: int, payoff: float, interest: float, tax: float = 0.19):\n",
    "    \"\"\"Compute debt amount after n compound periods.\"\"\"\n",
    "    d_n = debt\n",
    "    r = interest / 12 * (1-tax)\n",
    "    for i in range(n):\n",
    "        d_n = d_n * (1+r) + payoff\n",
    "        print(f'period={i+1} with payoff, debt={d_n:.2f}')\n",
    "    return d_n\n",
    "\n",
    "#d1 = debt(debt=-100_000, n=120, payoff=1443.39, interest=0.15)\n",
    "#d2 = debt_test(debt=-100_000, n=120, payoff=1443.39, interest=0.15)"
   ]
  },
  {
   "cell_type": "markdown",
   "metadata": {},
   "source": [
    "## Amount of payoff\n",
    "We are interested in the amount of payoff per period $c$ given initial debt $D_0$, $p\\%$ interest rate, $s\\%$ tax fee and $m=12$ frequency of compounding. Let's denote $q = 1 +r, \\; r = \\frac{p}{m} \\cdot (1-s)$ To get formula for it, we need to know the number of periods $N=nm$ we want to pay off debt. Paying off the debt in $N$ periods mean we have equation $D_n = 0$:\n",
    "\n",
    "\\begin{align}\n",
    "    D_0 q^{nm} + c \\cdot \\frac{1 - q^N}{1-q} = 0 \\\\\n",
    "    c = \\frac{-D_0 q^N (1-q)}{1-q^N}\n",
    "\\end{align}\n",
    "\n",
    "\n"
   ]
  },
  {
   "cell_type": "code",
   "execution_count": 5,
   "metadata": {},
   "outputs": [
    {
     "data": {
      "text/plain": [
       "1443.3941075099476"
      ]
     },
     "execution_count": 5,
     "metadata": {},
     "output_type": "execute_result"
    }
   ],
   "source": [
    "def payoff(debt: float, N: int, interest: float, tax: float = 0.19):\n",
    "    q = 1 + interest / 12 * (1-tax)\n",
    "    return debt * q**N * (1 - q) / (1 - q**N)\n",
    "\n",
    "payoff(debt=100_000, N=120, interest=0.15)"
   ]
  },
  {
   "cell_type": "code",
   "execution_count": 6,
   "metadata": {},
   "outputs": [
    {
     "data": {
      "application/vnd.jupyter.widget-view+json": {
       "model_id": "01a39a9fa63c440a80b370f73d87e520",
       "version_major": 2,
       "version_minor": 0
      },
      "text/plain": [
       "interactive(children=(FloatText(value=100000.0, description='Debt:', step=100.0), IntSlider(value=1, descripti…"
      ]
     },
     "metadata": {},
     "output_type": "display_data"
    }
   ],
   "source": [
    "def payoff_print(debt: float, N: int, interest: float, tax: float = 0.19):\n",
    "    return f'Pay off monthly: {payoff(debt, N, interest, tax):.2f}'\n",
    "interact(payoff_print, debt=debt_text, N=months_slider, interest=interest_slider, tax=tax_slider);"
   ]
  },
  {
   "cell_type": "markdown",
   "metadata": {},
   "source": [
    "## Number of periods\n",
    "We are interested in the number of periods $N$ we need to pay off the debt $D_0$, with $p\\%$ interest rate, $s\\%$ tax fee and $m=12$ frequency of compounding. Let's denote $q = 1 +r, \\; r = \\frac{p}{m} \\cdot (1-s)$ To get formula for it, we need to know the amount of money we are willing to pay monthly. Using the same equation as before:\n",
    "\n",
    "\\begin{align}\n",
    "    D_0 q^{nm} + c \\cdot \\frac{1 - q^N}{1-q} = 0 \\\\\n",
    "    N = \\log_q (c) - \\log_q \\left( -D_0(1-q) + c \\right)\n",
    "\\end{align}"
   ]
  },
  {
   "cell_type": "code",
   "execution_count": 7,
   "metadata": {},
   "outputs": [
    {
     "data": {
      "text/plain": [
       "120.00001737331263"
      ]
     },
     "execution_count": 7,
     "metadata": {},
     "output_type": "execute_result"
    }
   ],
   "source": [
    "from math import log\n",
    "def num_months(debt: float, payoff: float, interest: float, tax: float = 0.19):\n",
    "    q = 1 + interest / 12 * (1-tax)\n",
    "    return log(payoff, q) - log(debt * (1-q) + payoff, q)\n",
    "\n",
    "num_months(debt=100_000, payoff=1443.394, interest=0.15)"
   ]
  },
  {
   "cell_type": "code",
   "execution_count": 8,
   "metadata": {},
   "outputs": [
    {
     "data": {
      "application/vnd.jupyter.widget-view+json": {
       "model_id": "7c73756c0054484f97856cb063f93fd5",
       "version_major": 2,
       "version_minor": 0
      },
      "text/plain": [
       "interactive(children=(FloatText(value=100000.0, description='Debt:', step=100.0), FloatSlider(value=1000.0, de…"
      ]
     },
     "metadata": {},
     "output_type": "display_data"
    }
   ],
   "source": [
    "def num_months_print(debt: float, payoff: float, interest: float, tax: float = 0.19):\n",
    "    return f'Months : {num_months(debt, payoff, interest, tax):.2f}'\n",
    "interact(num_months_print, debt=debt_text, payoff=payoff_slider, interest=interest_slider, tax=tax_slider);"
   ]
  },
  {
   "cell_type": "markdown",
   "metadata": {},
   "source": [
    "## Debt able to pay\n",
    "We are interested in the debt $D_0$ to take, with $N$ periods, $p\\%$ interest rate, $s\\%$ tax fee and $m=12$ frequency of compounding. Let's denote $q = 1 +r, \\; r = \\frac{p}{m} \\cdot (1-s)$ To get formula for it, we need to know the amount of money we are willing to pay monthly. Using the same equation as before:\n",
    "\n",
    "\\begin{equation}\n",
    "    D_0 = \\frac{-c (1-q^N)}{q^N (1-q)}.\n",
    "\\end{equation}"
   ]
  },
  {
   "cell_type": "code",
   "execution_count": 9,
   "metadata": {},
   "outputs": [
    {
     "data": {
      "application/vnd.jupyter.widget-view+json": {
       "model_id": "a3d0cd78ebee42c3bd7b609e952e8516",
       "version_major": 2,
       "version_minor": 0
      },
      "text/plain": [
       "interactive(children=(IntSlider(value=1, description='Months:', max=360, min=1), FloatSlider(value=1000.0, des…"
      ]
     },
     "metadata": {},
     "output_type": "display_data"
    }
   ],
   "source": [
    "def debt_to_take(N: int, payoff: float, interest: float, tax: float = 0.19):\n",
    "    q = 1 + interest / 12 * (1-tax)\n",
    "    return payoff * (1-q**N) / (1-q) / q**N\n",
    "\n",
    "def debt_to_take_print(N: int, payoff: float, interest: float, tax: float = 0.19):\n",
    "    return f'Investment: {N*payoff}, debt : {debt_to_take(N, payoff, interest, tax):.2f}'\n",
    "interact(debt_to_take_print, N=months_slider, payoff=payoff_slider, interest=interest_slider, tax=tax_slider);"
   ]
  },
  {
   "cell_type": "markdown",
   "metadata": {},
   "source": [
    "## Mortgage plot"
   ]
  },
  {
   "cell_type": "code",
   "execution_count": 10,
   "metadata": {},
   "outputs": [
    {
     "data": {
      "application/vnd.jupyter.widget-view+json": {
       "model_id": "3ed92b95b11e4d0988ef609cae9a2e35",
       "version_major": 2,
       "version_minor": 0
      },
      "text/plain": [
       "interactive(children=(FloatText(value=100000.0, description='Debt:', step=100.0), IntSlider(value=1, descripti…"
      ]
     },
     "metadata": {},
     "output_type": "display_data"
    }
   ],
   "source": [
    "def plot_debt(d_0: float, n: int, payoff: float, interest: float, tax: float = 0.19):\n",
    "    \"\"\"Plot debt amount as a function of periods for different compounding frequencies.\"\"\"\n",
    "    N = np.arange(1, n)\n",
    "    d_n = debt(-d_0, N, payoff, interest, tax)\n",
    "    diff = np.append(d_0 + d_n[0], np.diff(d_n))\n",
    "    interests = payoff-diff\n",
    "    \n",
    "    plt.plot(N, -d_n)\n",
    "    plt.plot(N, diff.cumsum())\n",
    "    plt.plot(N, interests.cumsum())\n",
    "    plt.plot(N, payoff*N)\n",
    "    plt.xlabel('months')\n",
    "    plt.ylabel('debt')\n",
    "    plt.title(f'Debt {d_0:,.0f}, months: {n:n}, payment: {payoff:,.2f}')\n",
    "    plt.legend(labels=['Balance', 'Total principal', f'Total interest {interests.sum():,.0f}', f'Total cost {payoff*n:,.0f}'])\n",
    "    plt.show()\n",
    "\n",
    "def plot_debt_periods(d_0: float, n: int, interest: float, tax: float = 0.19):\n",
    "    pay = payoff(d_0, n, interest, tax)\n",
    "    plot_debt(d_0, n, pay, interest, tax)\n",
    "\n",
    "interact(plot_debt_periods, d_0=debt_text, n=months_slider, interest=interest_slider, tax=tax_slider);"
   ]
  },
  {
   "cell_type": "code",
   "execution_count": 11,
   "metadata": {},
   "outputs": [
    {
     "data": {
      "application/vnd.jupyter.widget-view+json": {
       "model_id": "2e19de4f71f64a34967719ca1a490228",
       "version_major": 2,
       "version_minor": 0
      },
      "text/plain": [
       "interactive(children=(FloatText(value=100000.0, description='Debt:', step=100.0), FloatSlider(value=1000.0, de…"
      ]
     },
     "metadata": {},
     "output_type": "display_data"
    }
   ],
   "source": [
    "def plot_debt_payoff(d_0: float, payoff: int, interest: float, tax: float = 0.19):\n",
    "    n = num_months(d_0, payoff, interest, tax)\n",
    "    plot_debt(d_0, n, payoff, interest, tax)\n",
    "\n",
    "interact(plot_debt_payoff, d_0=debt_text, payoff=payoff_slider, interest=interest_slider, tax=tax_slider);"
   ]
  },
  {
   "cell_type": "markdown",
   "metadata": {},
   "source": [
    "## Saving VS Mortgage\n",
    "We know that with debt we need to pay additional iterests, question is, when is it more profitable to take debt instead of saving?"
   ]
  },
  {
   "cell_type": "code",
   "execution_count": 12,
   "metadata": {},
   "outputs": [
    {
     "data": {
      "application/vnd.jupyter.widget-view+json": {
       "model_id": "60538451615f45628c3a701f4b185676",
       "version_major": 2,
       "version_minor": 0
      },
      "text/plain": [
       "interactive(children=(FloatText(value=100000.0, description='Amount to save:', step=100.0, style=DescriptionSt…"
      ]
     },
     "metadata": {},
     "output_type": "display_data"
    }
   ],
   "source": [
    "def interests(N: int, payoff: float, interest: float, tax: float = 0.19):\n",
    "    return N*payoff - debt_to_take(N, payoff, interest, tax)\n",
    "\n",
    "def saving_vs_mortgage(amount_to_save: float, monthly_saving: int, rent: float,\n",
    "                       utilities: float, interest: float, tax: float = 0.19):\n",
    "    N = np.ceil(amount_to_save / monthly_saving)\n",
    "    return N*rent - interests(N, rent*utilities+monthly_saving, interest, tax)\n",
    "\n",
    "def saving_vs_mortgage_print(amount_to_save: float, monthly_saving: int, rent: float, utilities: float, interest: float, tax: float = 0.19):\n",
    "    N = np.ceil(amount_to_save / monthly_saving)\n",
    "    return f'Rent: {N*rent}, Difference : {saving_vs_mortgage(amount_to_save, monthly_saving, rent, interest, tax):.2f}'\n",
    "\n",
    "interact(saving_vs_mortgage_print, amount_to_save=save_text, monthly_saving=monthly_save_text, rent=rent_slider, utilities=utilities_slider,\n",
    "         interest=interest_slider, tax=tax_slider);"
   ]
  },
  {
   "cell_type": "code",
   "execution_count": 13,
   "metadata": {
    "pycharm": {
     "is_executing": true
    }
   },
   "outputs": [
    {
     "data": {
      "application/vnd.jupyter.widget-view+json": {
       "model_id": "31dd4cf7c9974cb4865256691206fd12",
       "version_major": 2,
       "version_minor": 0
      },
      "text/plain": [
       "interactive(children=(FloatText(value=100000.0, description='Amount to save:', step=100.0, style=DescriptionSt…"
      ]
     },
     "metadata": {},
     "output_type": "display_data"
    }
   ],
   "source": [
    "def plot_savings(amount_to_save: float, rent: float, utilities: float, interest: float, tax: float = 0.19):\n",
    "    \"\"\"Plot debt amount as a function of periods for different compounding frequencies.\"\"\"\n",
    "    monthly_savings = np.linspace(start=1_000, stop=10_000, num=1000)\n",
    "\n",
    "    plt.plot(monthly_savings, saving_vs_mortgage(amount_to_save, monthly_savings, rent, utilities, interest, tax))\n",
    "    plt.xlabel('monthly savings')\n",
    "    plt.ylabel('Profit')\n",
    "    #plt.title(f'Debt {d_0:,.0f}, months: {n:n}, payment: {payoff:,.2f}')\n",
    "    #plt.legend(labels=['Balance', 'Total principal', f'Total interest {interests.sum():,.0f}', f'Total cost {payoff*n:,.0f}'])\n",
    "    plt.show()\n",
    "\n",
    "interact(plot_savings, amount_to_save=save_text, rent=rent_slider, utilities=utilities_slider, interest=interest_slider, tax=tax_slider);"
   ]
  }
 ],
 "metadata": {
  "kernelspec": {
   "display_name": "Python 3 (ipykernel)",
   "language": "python",
   "name": "python3"
  },
  "language_info": {
   "codemirror_mode": {
    "name": "ipython",
    "version": 3
   },
   "file_extension": ".py",
   "mimetype": "text/x-python",
   "name": "python",
   "nbconvert_exporter": "python",
   "pygments_lexer": "ipython3",
   "version": "3.9.0"
  }
 },
 "nbformat": 4,
 "nbformat_minor": 1
}
