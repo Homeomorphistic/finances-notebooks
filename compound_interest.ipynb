{
 "cells": [
  {
   "cell_type": "code",
   "execution_count": 38,
   "metadata": {},
   "outputs": [],
   "source": [
    "#! pip install ipywidgets\n",
    "#! jupyter nbextension enable --py widgetsnbextension --sys-prefix\n",
    "from ipywidgets import interact\n",
    "from ipywidgets.widgets import FloatText, BoundedIntText, FloatSlider"
   ]
  },
  {
   "cell_type": "code",
   "execution_count": 39,
   "metadata": {},
   "outputs": [],
   "source": [
    "# Widgets for interactive functions / plots\n",
    "deposit_widget = FloatText(value=1000, step=10, description='Deposit:')\n",
    "interest_widget = FloatSlider(value=0.05, step=0.01, min=0, max=0.25, description='Interest:')\n",
    "periods_widget = BoundedIntText(value=1, step=1, min=0, description='Periods:')"
   ]
  },
  {
   "cell_type": "markdown",
   "metadata": {},
   "source": [
    "#### Compound interest\n",
    "\n",
    "Compound interest includes interest earned on the interest that was previously accumulated. Let $D_0$ be initial deposit, $p\\%$ periodic interest rate and $D_n$ amount of depoist in $n$-th period. Then:\n",
    "\n",
    "\\begin{cases}\n",
    "    D_0 & = D_0 \\\\\n",
    "    D_1 & = D_0 + D_0 \\cdot p\\% = D_0 (1 + p\\%) \\\\\n",
    "    D_2 & = D_1 + D_1 \\cdot p\\% = D_1 (1 + p\\%) \\\\\n",
    "    \\vdots \\\\\n",
    "    D_n & = D_{n-1} + D_{n-1} \\cdot p\\% = D_{n-1} (1 + p\\%)\n",
    "\\end{cases}\n",
    "\n",
    "Given this set of recursive equations we can compute the amount of deposit in $n$-th period."
   ]
  },
  {
   "cell_type": "code",
   "execution_count": 40,
   "metadata": {},
   "outputs": [
    {
     "name": "stdout",
     "output_type": "stream",
     "text": [
      "Initial deposit 1000 after 10 years with 5% interest: 1628.89\n"
     ]
    }
   ],
   "source": [
    "def D_(n: int, D_0: float, p: float):\n",
    "    if n == 0:\n",
    "        return D_0\n",
    "    else:\n",
    "        return D_(n-1, D_0, p) * (1 + p)\n",
    "\n",
    "D_10 = D_(n=10, D_0=1000, p=0.05)\n",
    "print(f'Initial deposit 1000 after 10 years with 5% interest: {D_10:.2f}')"
   ]
  },
  {
   "cell_type": "markdown",
   "metadata": {},
   "source": [
    "### Closed formula for compound interest\n",
    "Given set of equations we can try to find closed formula for compound interest:\n",
    "\n",
    "\\begin{cases}\n",
    "    D_0 & = D_0 (1 + p\\%)^0\\\\\n",
    "    D_1 & = D_0 (1 + p\\%) = D_0 (1 + p\\%)^1 \\\\\n",
    "    D_2 & = D_1 (1 + p\\%) = D_0 (1 + p\\%)^2 \\\\\n",
    "    D_3 & = D_2 (1 + p\\%) = D_0 (1 + p\\%)^3 \\\\\n",
    "    \\vdots\n",
    "\\end{cases}\n",
    "so our conjecture is that $D_n = D_0 (1 + p\\%)^n$\n",
    "\n",
    "##### Theorem\n",
    "The amount of deposit, given initial deposit $D_0$ after $n$ periods with $p\\%$ periodic interest rate, i.e. $D_n$ is equal to $D_0 (1 + p\\%)^n$.\n",
    "\n",
    "##### Proof by induction\n",
    "For $n=1$ we have: $D_1 = D_0 (1+p\\%)^1$ by definition.\n",
    "\n",
    "IH: $D_n = D_0 (1 + p\\%)^n$\n",
    "\n",
    "IS: $D_{n+1} = D_n (1 + p\\%) = D_0 (1+p\\%)^n (1 + p\\%) = D_0 (1+p\\%)^{n+1}$ and that finishes the proof."
   ]
  },
  {
   "cell_type": "code",
   "execution_count": 41,
   "outputs": [
    {
     "name": "stdout",
     "output_type": "stream",
     "text": [
      "Initial deposit 1000 after 10 years with 5% interest: 1628.89\n",
      "Is closed formula correct? True\n"
     ]
    }
   ],
   "source": [
    "def deposit_compound(n: int, D_0: float, p: float):\n",
    "    \"\"\"Compute recursively amount of deposit at n-th period.\n",
    "\n",
    "    Args:\n",
    "        n (int): period\n",
    "        D_0 (float): initial deposit\n",
    "        p (float in [0,1]): annual interest rate\n",
    "\n",
    "    Returns:\n",
    "        D_n (float): amount of deposit at n-th period\n",
    "    \"\"\"\n",
    "    return D_0 * (1 + p)**n\n",
    "\n",
    "D_10 = deposit_compound(n=10, D_0=1000, p=0.05)\n",
    "print(f'Initial deposit 1000 after 10 years with 5% interest: {D_10:.2f}')\n",
    "print('Is closed formula correct?', abs(D_10 - D_(10, 1000, 0.05)) < 0.001)"
   ],
   "metadata": {
    "collapsed": false
   }
  },
  {
   "cell_type": "markdown",
   "source": [
    "### Compound interest calculator"
   ],
   "metadata": {
    "collapsed": false
   }
  },
  {
   "cell_type": "code",
   "execution_count": 42,
   "metadata": {},
   "outputs": [
    {
     "data": {
      "text/plain": "interactive(children=(BoundedIntText(value=1, description='Periods:'), FloatText(value=1000.0, description='De…",
      "application/vnd.jupyter.widget-view+json": {
       "version_major": 2,
       "version_minor": 0,
       "model_id": "8122d1cb416b4c819ef816e6524e8c81"
      }
     },
     "metadata": {},
     "output_type": "display_data"
    },
    {
     "data": {
      "text/plain": "<function __main__.pretty_print_deposit(n, D_0, p)>"
     },
     "execution_count": 42,
     "metadata": {},
     "output_type": "execute_result"
    }
   ],
   "source": [
    "def pretty_print_deposit(n, D_0, p):\n",
    "    return f'Deposit after {n} periods with {p} interest: {deposit_compound(n, D_0, p):.2f}'\n",
    "interact(pretty_print_deposit, n=periods_widget, D_0=deposit_widget, p=interest_widget)"
   ]
  },
  {
   "cell_type": "markdown",
   "source": [
    "### Compound frequency\n",
    "\n"
   ],
   "metadata": {
    "collapsed": false
   }
  }
 ],
 "metadata": {
  "kernelspec": {
   "display_name": "Python 3 (ipykernel)",
   "language": "python",
   "name": "python3"
  },
  "language_info": {
   "codemirror_mode": {
    "name": "ipython",
    "version": 3
   },
   "file_extension": ".py",
   "mimetype": "text/x-python",
   "name": "python",
   "nbconvert_exporter": "python",
   "pygments_lexer": "ipython3",
   "version": "3.9.0"
  }
 },
 "nbformat": 4,
 "nbformat_minor": 1
}
