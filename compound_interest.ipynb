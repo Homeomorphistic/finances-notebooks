{
 "cells": [
  {
   "cell_type": "code",
   "execution_count": 12,
   "metadata": {},
   "outputs": [
    {
     "name": "stdout",
     "output_type": "stream",
     "text": [
      "Enabling notebook extension jupyter-js-widgets/extension...\r\n",
      "      - Validating: \u001B[32mOK\u001B[0m\r\n"
     ]
    }
   ],
   "source": [
    "#! pip install ipywidgets\n",
    "#! jupyter nbextension enable --py widgetsnbextension --sys-prefix\n",
    "from ipywidgets import interact\n",
    "from ipywidgets.widgets import FloatText, BoundedIntText, FloatSlider, IntRangeSlider\n",
    "\n",
    "import numpy as np\n",
    "import matplotlib.pyplot as plt\n",
    "\n",
    "from typing import Tuple"
   ]
  },
  {
   "cell_type": "code",
   "execution_count": 9,
   "metadata": {},
   "outputs": [],
   "source": [
    "# Widgets for interactive functions / plots\n",
    "deposit_widget = FloatText(value=1000, step=10, description='Deposit:')\n",
    "interest_widget = FloatSlider(value=0.05, step=0.01, min=0, max=0.25, description='Interest:')\n",
    "periods_widget = BoundedIntText(value=1, step=1, min=0, description='Periods:')\n",
    "periods_range_widget = IntRangeSlider(value=(70, 90), step=1, min=1, max=100, description='Periods:')\n",
    "frequency_widget = BoundedIntText(value=1, step=1, min=1, description='Frequency:')"
   ]
  },
  {
   "cell_type": "markdown",
   "metadata": {},
   "source": [
    "#### Compound interest\n",
    "\n",
    "Compound interest includes interest earned on the interest that was previously accumulated. Let $D_0$ be initial deposit, $p\\%$ periodic interest rate and $D_n$ deposit amount after $n$ periods. Then:\n",
    "\n",
    "\\begin{cases}\n",
    "    D_0 & = D_0 \\\\\n",
    "    D_1 & = D_0 + D_0 \\cdot p\\% = D_0 (1 + p\\%) \\\\\n",
    "    D_2 & = D_1 + D_1 \\cdot p\\% = D_1 (1 + p\\%) \\\\\n",
    "    \\vdots \\\\\n",
    "    D_n & = D_{n-1} + D_{n-1} \\cdot p\\% = D_{n-1} (1 + p\\%)\n",
    "\\end{cases}\n",
    "\n",
    "Given this set of recursive equations we can compute the deposit amount after $n$ periods."
   ]
  },
  {
   "cell_type": "code",
   "execution_count": 3,
   "metadata": {},
   "outputs": [
    {
     "name": "stdout",
     "output_type": "stream",
     "text": [
      "Initial deposit 1000 after 10 years with 5% interest: 1628.89\n"
     ]
    }
   ],
   "source": [
    "def D_(n: int, D_0: float, p: float):\n",
    "    if n == 0:\n",
    "        return D_0\n",
    "    else:\n",
    "        return D_(n-1, D_0, p) * (1 + p)\n",
    "\n",
    "D_10 = D_(n=10, D_0=1000, p=0.05)\n",
    "print(f'Initial deposit 1000 after 10 years with 5% interest: {D_10:.2f}')"
   ]
  },
  {
   "cell_type": "markdown",
   "metadata": {},
   "source": [
    "### Closed formula for compound interest\n",
    "Given set of equations we can try to find closed formula for compound interest:\n",
    "\n",
    "\\begin{cases}\n",
    "    D_0 & = D_0 (1 + p\\%)^0\\\\\n",
    "    D_1 & = D_0 (1 + p\\%) = D_0 (1 + p\\%)^1 \\\\\n",
    "    D_2 & = D_1 (1 + p\\%) = D_0 (1 + p\\%)^2 \\\\\n",
    "    D_3 & = D_2 (1 + p\\%) = D_0 (1 + p\\%)^3 \\\\\n",
    "    \\vdots\n",
    "\\end{cases}\n",
    "so our conjecture is that $D_n = D_0 (1 + p\\%)^n$\n",
    "\n",
    "##### Theorem\n",
    "The deposit amount, given initial deposit $D_0$ after $n$ periods with $p\\%$ periodic interest rate, i.e. $D_n$ is equal to $D_0 (1 + p\\%)^n$.\n",
    "\n",
    "##### Proof by induction\n",
    "For $n=1$ we have: $D_1 = D_0 (1+p\\%)^1$ by definition.\n",
    "\n",
    "IH: $D_n = D_0 (1 + p\\%)^n$\n",
    "\n",
    "IS: $D_{n+1} = D_n (1 + p\\%) = D_0 (1+p\\%)^n (1 + p\\%) = D_0 (1+p\\%)^{n+1}$ and that finishes the proof."
   ]
  },
  {
   "cell_type": "code",
   "execution_count": 4,
   "metadata": {},
   "outputs": [
    {
     "name": "stdout",
     "output_type": "stream",
     "text": [
      "Initial deposit 1000 after 10 years with 5% interest: 1628.89\n",
      "Is closed formula correct? True\n"
     ]
    }
   ],
   "source": [
    "def deposit_compound(n: int, D_0: float, p: float):\n",
    "    \"\"\"Compute recursively deposit amount after n periods.\n",
    "\n",
    "    Args:\n",
    "        n (int): period\n",
    "        D_0 (float): initial deposit\n",
    "        p (float in [0,1]): annual interest rate\n",
    "\n",
    "    Returns:\n",
    "        D_n (float): deposit amount after n periods.\n",
    "    \"\"\"\n",
    "    return D_0 * (1 + p)**n\n",
    "\n",
    "D_10 = deposit_compound(n=10, D_0=1000, p=0.05)\n",
    "print(f'Initial deposit 1000 after 10 years with 5% interest: {D_10:.2f}')\n",
    "print('Is closed formula correct?', abs(D_10 - D_(10, 1000, 0.05)) < 0.001)"
   ]
  },
  {
   "cell_type": "markdown",
   "metadata": {},
   "source": [
    "### Compound interest calculator"
   ]
  },
  {
   "cell_type": "code",
   "execution_count": 5,
   "metadata": {},
   "outputs": [
    {
     "data": {
      "application/vnd.jupyter.widget-view+json": {
       "model_id": "8d89d5f37e5041a5953961f7fc623fd8",
       "version_major": 2,
       "version_minor": 0
      },
      "text/plain": [
       "interactive(children=(BoundedIntText(value=1, description='Periods:'), FloatText(value=1000.0, description='De…"
      ]
     },
     "metadata": {},
     "output_type": "display_data"
    }
   ],
   "source": [
    "def pretty_print_deposit(n, D_0, p):\n",
    "    return f'Deposit after {n} periods with {p} interest: {deposit_compound(n, D_0, p):.2f}'\n",
    "interact(pretty_print_deposit, n=periods_widget, D_0=deposit_widget, p=interest_widget);"
   ]
  },
  {
   "cell_type": "markdown",
   "metadata": {},
   "source": [
    "### Compound frequency\n",
    "The compounding frequency is the number of times per period the accumulated interest is paid out, or capitalized. Periodic interest rate is divided then by the number of compounding frequency. Let $D_0$ be initial deposit, $p\\%$ periodic interest rate, $m$ frequency of compounding and denote $D_{n,k}, \\; k=0,\\ldots, m$ as deposit amount in $n$-th period and $k$-th compounding. Also for convenience denote $D_n = D_{n,0} = D_{n-1, m}, \\; D_{0,0} = D_0$ as deposit after $n$ periods. Let us start with $m=2$ then:\n",
    "\n",
    "\\begin{cases}\n",
    "    D_{0,0} & = D_0 \\\\\n",
    "    D_{0,1} & = D_{0,0} + D_{0,0} \\cdot \\frac{p}{2}\\% = D_{0,0} \\left( 1 + \\frac{p}{2}\\% \\right) \\\\\n",
    "    D_{1,0} & = D_{0,1} + D_{0,1} \\cdot \\frac{p}{2}\\% = D_{0,1} \\left( 1 + \\frac{p}{2}\\% \\right) \\\\\n",
    "    D_{1,1} & = D_{1,0} + D_{1,0} \\cdot \\frac{p}{2}\\% = D_{1,0} \\left( 1 + \\frac{p}{2}\\% \\right) \\\\\n",
    "    D_{2,0} & = D_{1,1} + D_{1,1} \\cdot \\frac{p}{2}\\% = D_{1,1} \\left( 1 + \\frac{p}{2}\\% \\right) \\\\\n",
    "    \\vdots \\\\\n",
    "    D_{n-1,1} & = D_{n-1,0} + D_{n-1,0} \\cdot \\frac{p}{2}\\% = D_{n-1,0} \\left( 1 + \\frac{p}{2}\\% \\right) \\\\\n",
    "    D_{n,0} & = D_{n-1, 1} + D_{n-1, 1} \\cdot \\frac{p}{2}\\% = D_{n-1,1} \\left( 1 + \\frac{p}{2}\\% \\right)\n",
    "\\end{cases}\n",
    "\n",
    "reformulating those equations to deposit amounts $D_i$ that interest us:\n",
    "\n",
    "\\begin{cases}\n",
    "    D_0 & = D_{0,0} \\\\\n",
    "    D_1 & = D_{1,0} = D_{0,1} \\left( 1 + \\frac{p}{2}\\% \\right) = D_{0,0} \\left( 1 + \\frac{p}{2}\\% \\right)^2 = D_0 \\left( 1 + \\frac{p}{2}\\% \\right)^2 \\\\\n",
    "    D_2 & = D_{2,0} = D_{1,1} \\left( 1 + \\frac{p}{2}\\% \\right) = D_{1,0} \\left( 1 + \\frac{p}{2}\\% \\right)^2 = D_1 \\left( 1 + \\frac{p}{2}\\% \\right)^2 \\\\\n",
    "    \\vdots \\\\\n",
    "    D_n & = D_{n,0} = D_{n-1,1} \\left( 1 + \\frac{p}{2}\\% \\right) = D_{n-1,0} \\left( 1 + \\frac{p}{2}\\% \\right)^2 = D_{n-1} \\left( 1 + \\frac{p}{2}\\% \\right)^2\n",
    "\\end{cases}\n",
    "\n",
    "We can see that for any $m$ we just need to add more equations for each period, so:\n",
    "\n",
    "\\begin{cases}\n",
    "    D_{n,0} & = D_{n} \\\\\n",
    "    D_{n,1} & = D_{n,0} + D_{n,0} \\cdot \\frac{p}{m}\\% = D_{n,0} \\left( 1 + \\frac{p}{m}\\% \\right) \\\\\n",
    "    D_{n,2} & = D_{n,1} + D_{n,1} \\cdot \\frac{p}{m}\\% = D_{n,1} \\left( 1 + \\frac{p}{m}\\% \\right) \\\\\n",
    "    \\vdots \\\\\n",
    "    D_{n,m-1} & = D_{n, m-2} + D_{n, m-2} \\cdot \\frac{p}{m}\\% = D_{n,m-2} \\left( 1 + \\frac{p}{m}\\% \\right) \\\\\n",
    "    D_{n+1,0} & = D_{n, m-1} + D_{n, m-1} \\cdot \\frac{p}{m}\\% = D_{n,m-1} \\left( 1 + \\frac{p}{m}\\% \\right)\n",
    "\\end{cases}\n",
    "\n",
    "substituting equations from top to the bottom we will get that $D_{n+1} = D_{n} \\left( 1 + \\frac{p}{m}\\% \\right)^m$\n",
    "\n",
    "##### Theorem\n",
    "The deposit amount, given initial deposit $D_0$ after $n$ periods with $p\\%$ periodic interest rate and $m$ frequency of compounding, i.e. $D_n$ is equal to $D_0 \\left( 1 + \\frac{p}{m}\\% \\right)^{mn}$.\n",
    "\n",
    "##### Proof by induction\n",
    "For $n=1$ we have: $D_1 = D_0 \\left( 1 + \\frac{p}{m}\\% \\right)^m$ by definition.\n",
    "\n",
    "IH: $D_n = D_0 \\left( 1 + \\frac{p}{m}\\% \\right)^{mn}$\n",
    "\n",
    "IS: $D_{n+1} = D_n \\left( 1 + \\frac{p}{m}\\% \\right)^m = D_0 \\left( 1 + \\frac{p}{m}\\% \\right)^{mn} \\left( 1 + \\frac{p}{m}\\% \\right)^m = D_0 \\left( 1 + \\frac{p}{m}\\% \\right)^{m(n+1)}$ and that finishes the proof.\n"
   ]
  },
  {
   "cell_type": "code",
   "execution_count": 6,
   "metadata": {},
   "outputs": [
    {
     "name": "stdout",
     "output_type": "stream",
     "text": [
      "Initial deposit 1000 after 10 years with 5% interest and monthly frequency: 1647.01\n"
     ]
    }
   ],
   "source": [
    "# Updated deposit_compound function\n",
    "def deposit_compound(n: int, m: int, D_0: float, p: float):\n",
    "    \"\"\"Compute recursively deposit amount after n periods.\n",
    "\n",
    "    Args:\n",
    "        n (int): period\n",
    "        m (int): frequency of compounds\n",
    "        D_0 (float): initial deposit\n",
    "        p (float in [0,1]): annual interest rate\n",
    "\n",
    "    Returns:\n",
    "        D_n (float): deposit amount after n periods.\n",
    "    \"\"\"\n",
    "    return D_0 * (1 + p/m)**(n*m)\n",
    "\n",
    "D_10 = deposit_compound(n=10, m=12, D_0=1000, p=0.05)\n",
    "print(f'Initial deposit 1000 after 10 years with 5% interest and monthly frequency: {D_10:.2f}')"
   ]
  },
  {
   "cell_type": "markdown",
   "metadata": {},
   "source": [
    "### Compound interest calculator (with frequency)"
   ]
  },
  {
   "cell_type": "code",
   "execution_count": 7,
   "metadata": {},
   "outputs": [
    {
     "data": {
      "application/vnd.jupyter.widget-view+json": {
       "model_id": "cca8bfee05404bf585a979664c3f0cef",
       "version_major": 2,
       "version_minor": 0
      },
      "text/plain": [
       "interactive(children=(BoundedIntText(value=1, description='Periods:'), BoundedIntText(value=1, description='Fr…"
      ]
     },
     "metadata": {},
     "output_type": "display_data"
    }
   ],
   "source": [
    "def pretty_print_deposit(n, m, D_0, p):\n",
    "    return f'Deposit after {n} periods with {p} interest and {m} frequency: {deposit_compound(n, m, D_0, p):.2f}'\n",
    "interact(pretty_print_deposit, n=periods_widget, m=frequency_widget, D_0=deposit_widget, p=interest_widget);"
   ]
  },
  {
   "cell_type": "markdown",
   "metadata": {},
   "source": [
    "## Compound interest with different frequencies comparison"
   ]
  },
  {
   "cell_type": "code",
   "execution_count": 15,
   "metadata": {},
   "outputs": [
    {
     "data": {
      "text/plain": "interactive(children=(FloatText(value=1000.0, description='Deposit:', step=10.0), FloatSlider(value=0.05, desc…",
      "application/vnd.jupyter.widget-view+json": {
       "version_major": 2,
       "version_minor": 0,
       "model_id": "cd9fd12d8f5f481e80642ee5be9a33fb"
      }
     },
     "metadata": {},
     "output_type": "display_data"
    }
   ],
   "source": [
    "def plot_compounding_comparison(D_0: float, p: float, period: Tuple[int, int] = (1, 50)):\n",
    "    \"\"\"Plot deposit amount as a function of periods for different compounding frequencies\n",
    "\n",
    "    :param D_0: initial deposit\n",
    "    :type D_0: float\n",
    "    :param p: periodic interest rate\n",
    "    :type p: float\n",
    "    :param period: range for which to plot deposit amount\n",
    "    :type period: Tuple[int, int]\n",
    "    :return: None\n",
    "    \"\"\"\n",
    "    M = np.array([1, 2, 3, 4, 6, 12, 365])\n",
    "    periods = np.arange(*period)\n",
    "    for m in M:\n",
    "        plt.plot(periods, deposit_compound(n=periods, m=m, D_0=D_0, p=p))\n",
    "    plt.xlabel('years')\n",
    "    plt.ylabel('amount')\n",
    "    plt.title(f'Initial deposit: {D_0}, annual interest rate: {p}')\n",
    "    plt.legend(labels=M, title='Frequency')\n",
    "    plt.show()\n",
    "\n",
    "interact(plot_compounding_comparison, D_0=deposit_widget, p=interest_widget, period=periods_range_widget);\n"
   ]
  },
  {
   "cell_type": "markdown",
   "source": [
    "### Continuous compounding\n",
    "We see from the plots, that more frequent compounding yields more, but not that much more with each step. What if we could go with frequency to the infinity? It means that we would be dividing a period into infinitesimal chunks. Does it mean, that we will get to infinite deposits?\n",
    "\n",
    "##### Lemma\n",
    "Sequence $ a_n =  \\left( 1 + \\frac{p}{n} \\right)^n$ is increasing, i.e:\n",
    "$\\forall \\; k < l \\; \\left( 1 + \\frac{p}{k} \\right)^k < \\left( 1 + \\frac{p}{l} \\right)^l ?$"
   ],
   "metadata": {
    "collapsed": false
   }
  },
  {
   "cell_type": "markdown",
   "metadata": {},
   "source": []
  }
 ],
 "metadata": {
  "kernelspec": {
   "display_name": "Python 3 (ipykernel)",
   "language": "python",
   "name": "python3"
  },
  "language_info": {
   "codemirror_mode": {
    "name": "ipython",
    "version": 3
   },
   "file_extension": ".py",
   "mimetype": "text/x-python",
   "name": "python",
   "nbconvert_exporter": "python",
   "pygments_lexer": "ipython3",
   "version": "3.11.1"
  }
 },
 "nbformat": 4,
 "nbformat_minor": 1
}
