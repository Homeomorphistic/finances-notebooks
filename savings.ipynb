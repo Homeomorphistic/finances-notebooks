{
 "cells": [
  {
   "cell_type": "code",
   "execution_count": 1,
   "metadata": {},
   "outputs": [],
   "source": [
    "#! pip install ipywidgets\n",
    "#! jupyter nbextension enable --py widgetsnbextension --sys-prefix\n",
    "from ipywidgets import interact\n",
    "from ipywidgets.widgets import FloatText, BoundedIntText, FloatSlider, IntSlider, IntRangeSlider, fixed, Text\n",
    "\n",
    "import numpy as np\n",
    "import matplotlib.pyplot as plt\n",
    "\n",
    "from typing import Tuple, Iterable"
   ]
  },
  {
   "cell_type": "code",
   "execution_count": 2,
   "metadata": {},
   "outputs": [],
   "source": [
    "# Widgets for interactive functions / plots\n",
    "style = {'description_width': 'initial'}\n",
    "\n",
    "deposit_text = FloatText(value=1000, step=100, description='Deposit:')\n",
    "\n",
    "contribution_text = FloatText(value=100, step=10, description='Yearly contribution:', style=style)\n",
    "\n",
    "contribution_years_slider = IntSlider(value=0, step=1, min=0, max=100, description='Contribution years:', style=style)\n",
    "\n",
    "interest_slider = FloatSlider(value=0.05, step=0.01, min=0, max=0.25, description='Interest:')\n",
    "interest_text = Text(value='0.05, 0.05, 0.05, 0.05, 0.05, 0.05', description=\"Interests\")\n",
    "\n",
    "tax_slider = FloatSlider(value=0.19, step=0.01, min=0, max=0.30, description='Tax:')\n",
    "\n",
    "years_slider = IntSlider(value=1, step=1, min=1, max=100, description='Years:')\n",
    "years_range_slider = IntRangeSlider(value=(1, 40), step=1, min=1, max=100, description='Years:')\n",
    "\n",
    "frequency_slider = IntSlider(value=1, step=1, min=1, max=12, description='Frequency:')\n",
    "frequencies_text = Text(value='1, 2, 3, 4, 12', description=\"frequencies\")"
   ]
  },
  {
   "cell_type": "markdown",
   "metadata": {},
   "source": [
    "# Savings"
   ]
  },
  {
   "cell_type": "markdown",
   "metadata": {},
   "source": [
    " ### Time deposit\n",
    " Time deposits normally earn interest, which is normally fixed for the duration of the term and payable upon maturity, though some may be paid periodically during the term, especially with longer-term deposits. Generally, the longer the term and the larger the deposit amount the higher the interest rate that will be offered.\n",
    "\n",
    " source: https://en.wikipedia.org/wiki/Time_deposit"
   ]
  },
  {
   "cell_type": "markdown",
   "metadata": {},
   "source": [
    "#### Certificate of deposit (lokata?)\n",
    "CD has a specific, fixed term (often one, three, or six months, or one to five years) and usually, a fixed interest rate. The bank expects the CD to be held until maturity, at which time they can be withdrawn and interest paid. CDs are insured \"money in the bank\" (in the EU up to 100 000 euros) and thus, up to the local insured deposit limit, virtually risk free.\n",
    "https://en.wikipedia.org/wiki/Certificate_of_deposit"
   ]
  },
  {
   "cell_type": "markdown",
   "metadata": {},
   "source": [
    "In real world scenarios we need to add in taxes, which are took from your earned interest. Given initial deposit $D_0$ after $n$ periods with $p\\%$ periodic interest rate, $s\\%$ tax fee and $m=1$ frequency of compounding, i.e. $D_n$ is equal to\n",
    "$D_n = D_{n-1} + D_{n-1} p\\% (1 - s\\%) = D_{n-1} \\left( 1 + p\\% (1 - s\\%) \\right) $\n",
    "\n",
    "Similarly when we take any $m$:\n",
    "$D_n = D_{n-1} \\left( 1 + \\frac{p\\%}{m} (1 - s\\%) \\right)^m $\n",
    "\n",
    "We can see that adding tax is actually just a change of percentage, so we can denote $r = p\\% (1 - s\\%)$ to simplify. With that we see that tax is not changing the theorem proved before, so:\n",
    "$D_n = D_0 \\left( 1 + \\frac{r}{m} \\right)^{mn}$"
   ]
  },
  {
   "cell_type": "code",
   "execution_count": 3,
   "metadata": {},
   "outputs": [],
   "source": [
    "def deposit_years(initial_deposit: float, years: int, frequency: int, interest: float, tax: float = 0.19):\n",
    "    \"\"\"Compute deposit amount after number of years.\"\"\"\n",
    "    return initial_deposit * (1 + interest * (1 - tax) / frequency)**(years * frequency)\n",
    "\n",
    "def deposit(initial_deposit: float, n: int, frequency: int, interest: float, tax: float = 0.19):\n",
    "    \"\"\"Compute deposit amount after n compound periods.\"\"\"\n",
    "    return initial_deposit * (1 + interest * (1 - tax) / frequency)**n"
   ]
  },
  {
   "cell_type": "markdown",
   "metadata": {},
   "source": [
    "### Deposit calculators"
   ]
  },
  {
   "cell_type": "code",
   "execution_count": 4,
   "metadata": {},
   "outputs": [
    {
     "data": {
      "application/vnd.jupyter.widget-view+json": {
       "model_id": "5997946ebc1945a0a2279797cac3b26a",
       "version_major": 2,
       "version_minor": 0
      },
      "text/plain": [
       "interactive(children=(FloatText(value=1000.0, description='Deposit:', step=100.0), IntSlider(value=1, descript…"
      ]
     },
     "metadata": {},
     "output_type": "display_data"
    }
   ],
   "source": [
    "def pretty_print_deposits(initial_deposit, years, frequency, interest, tax):\n",
    "    return f'Deposit after {years} years, with frequency {frequency}, {interest} interest rate and tax {tax}: {deposit_years(initial_deposit, years, frequency, interest, tax)}'\n",
    "\n",
    "interact(pretty_print_deposits, initial_deposit=deposit_text, years=years_slider, frequency=frequency_slider, interest=interest_slider, tax=tax_slider);"
   ]
  },
  {
   "cell_type": "code",
   "execution_count": 5,
   "metadata": {},
   "outputs": [
    {
     "data": {
      "application/vnd.jupyter.widget-view+json": {
       "model_id": "89d985f74b3d4affbf6487403c01b27d",
       "version_major": 2,
       "version_minor": 0
      },
      "text/plain": [
       "interactive(children=(FloatText(value=1000.0, description='Deposit:', step=100.0), IntRangeSlider(value=(1, 40…"
      ]
     },
     "metadata": {},
     "output_type": "display_data"
    }
   ],
   "source": [
    "def plot_deposits(initial_deposit: float, years: Tuple[int, int], frequencies: str, interests: str, tax: float = 0.19):\n",
    "    \"\"\"Plot deposit amount as a function of periods for different compounding frequencies.\"\"\"\n",
    "    years = np.arange(*years)\n",
    "    frequencies = list(map(int, frequencies.split(',')))\n",
    "    interests = list(map(float, interests.split(',')))\n",
    "    for m, p in zip(frequencies, interests):\n",
    "        plt.plot(years, deposit_years(initial_deposit, years, m, p, tax))\n",
    "    plt.xlabel('years')\n",
    "    plt.ylabel('amount')\n",
    "    plt.title(f'Initial deposit: {initial_deposit}')\n",
    "    plt.legend(labels=list(zip(frequencies, interests)), title='Frequency and interest')\n",
    "    plt.show()\n",
    "\n",
    "interact(plot_deposits, initial_deposit=deposit_text, years=years_range_slider, frequencies=frequencies_text, interests=interest_text, tax=tax_slider);"
   ]
  },
  {
   "cell_type": "markdown",
   "metadata": {},
   "source": [
    "### Savings account\n",
    "Savings accounts are more flexible CDs usually pay interest monthly, but have limited number of withdrawals.\n",
    "\n",
    "https://en.wikipedia.org/wiki/Savings_account"
   ]
  },
  {
   "cell_type": "markdown",
   "metadata": {},
   "source": [
    "### Time deposits with contributions\n",
    "In real world scenario we will contribute to the deposit with each compounding period. Given initial deposit $D_0$ and the same amount of contribution for each compounding, after $n$ periods with $p\\%$ periodic interest rate, $s\\%$ tax fee and $m=1$ frequency of compounding, i.e. $D_n$ is equal to\n",
    "\n",
    "\\begin{align*}\n",
    "    r &= p\\% (1-s\\%) \\\\\n",
    "    q &= 1 + r \\\\\n",
    "    D_n &= D_{n-1} (1 + r) + D_0 = D_{n-1}q + D_0\n",
    "\\end{align*}\n",
    "\n",
    "Let's look at few first terms:\n",
    "\\begin{align*}\n",
    "    D_0 &= D_0 \\\\\n",
    "    D_1 &= D_0 q + D_0 \\\\\n",
    "    D_2 &= D_1 q + D_0  = D_0 q^2 + D_0 q + D_0 \\\\\n",
    "    D_3 &= D_2 q + D_0  = D_0 q^3 + D_0 q^2 + D_0 q + D_0 \\\\\n",
    "    \\vdots\n",
    "\\end{align*}\n",
    "so our conjecture is that $D_n = D_0 \\sum_{i=0}^{n} q^i$.\n",
    "\n",
    "##### Theorem\n",
    "$D_n = D_0 \\sum_{i=0}^{n} q^i$\n",
    "\n",
    "##### Proof by induction\n",
    "For $n=1$ we have $D_1 = D_0 q + D_0$ by definition.\n",
    "\n",
    "IH: $D_n = D_0 \\sum_{i=0}^{n} q^i$\n",
    "\n",
    "IS: $D_{n+1} = D_n q + D_0 = \\left( D_0 \\sum_{i=0}^{n} q^i \\right)q + D_0 = D_0 \\left[ \\sum_{i=1}^{n+1} q^i + 1 \\right] = D_0 \\left[ \\sum_{i=0}^{n+1} q^i \\right]$ and that finishes the proof.\n",
    "\n",
    "##### Corollary\n",
    "$D_n = D_0 \\cdot \\frac{1 - (1 + r)^{n+1}}{-r}.$\n",
    "\n",
    "##### Proof\n",
    "We know the formula for geometric series: $\\sum_{i=0}^{n} q^i = \\frac{1-q^{n+1}}{1-q} = \\frac{1 - (1 + r)^{n+1}}{-r}.$"
   ]
  },
  {
   "cell_type": "markdown",
   "metadata": {},
   "source": [
    "For any compounding frequency $m$ we need to add more equations:\n",
    "\n",
    "\\begin{align*}\n",
    "    D_{n-1, m} = D_{n,0} &= D_n \\\\\n",
    "    D_{n, 1} &= D_{n,0}q + D_0 \\\\\n",
    "    D_{n, 2} &= D_{n,1}q + D_0 = D_n q^2 + D_0 q + D_0  \\\\\n",
    "    D_{n, 3} &= D_{n,2}q + D_0 = D_n q^3+  D_0 q^2 + D_0 q + D_0  \\\\\n",
    "    \\vdots \\\\\n",
    "    D_{n, m-1} &= D_{n,m-2}q + D_0  = D_n q^{m-1} + D_0 \\sum_{i=0}^{m-2} q^i \\\\\n",
    "    D_{n+1} = D_{n,m} &= D_{n,m-1}q + D_0 = D_n q^{m} + D_0 \\sum_{i=0}^{m-1} q^i\n",
    "\\end{align*}\n",
    "\n",
    "Let's try substituting some first few equations:\n",
    "\\begin{align*}\n",
    "    D_0 &= D_0 \\\\\n",
    "    D_1 &= D_0 q^m + D_0 \\sum_{i=0}^{m-1} q^i = D_0 \\sum_{i=0}^{m} q^i\\\\\n",
    "    D_2 &= D_1 q^m + D_0 \\sum_{i=0}^{m-1} q^i = D_0 \\sum_{i=m}^{2m} q^i + D_0 \\sum_{i=0}^{m-1} q^i = D_0 \\sum_{i=0}^{2m} q^i  \\\\\n",
    "    D_3 &= D_2 q^m + D_0 \\sum_{i=0}^{m-1} q^i = D_0 \\sum_{i=m}^{3m} q^i + D_0 \\sum_{i=0}^{m-1} q^i = D_0 \\sum_{i=0}^{3m} q^i  \\\\\n",
    "    \\vdots\n",
    "\\end{align*}\n",
    "so our conjecture is that $D_n = D_0 \\sum_{i=0}^{nm} q^i$\n",
    "\n",
    "##### Theorem\n",
    "$D_n = D_0 \\sum_{i=0}^{nm} q^i$\n",
    "\n",
    "##### Proof by induction\n",
    "For $n=1$ we have $D_1 = D_0 q^m + D_0 \\sum_{i=0}^{m-1} = D_0 \\sum_{i=0}^{m}$ by definition.\n",
    "\n",
    "IH: $D_n = D_0 \\sum_{i=0}^{nm} q^i$\n",
    "\n",
    "IS: $D_{n+1} = D_n q^m + D_0 \\sum_{i=0}^{m-1} = \\left( D_0 \\sum_{i=0}^{nm} q^i \\right) q^m + D_0 \\sum_{i=0}^{m-1} q^i = D_0 \\sum_{i=m}^{(n+1)m} q^i + D_0 \\sum_{i=0}^{m-1} q^i = D_0 \\sum_{i=0}^{(n+1)m} q^i$ and that finishes the proof.\n",
    "\n",
    "##### Corollary\n",
    "$D_n = D_0 \\cdot \\frac{1 - (1 + r)^{nm+1}}{-r}.$\n",
    "\n",
    "##### Proof\n",
    "We know the formula for geometric series: $\\sum_{i=0}^{nm} q^i = \\frac{1-q^{nm+1}}{1-q} = \\frac{1 - (1 + r)^{nm+1}}{-r}.$"
   ]
  },
  {
   "cell_type": "markdown",
   "metadata": {},
   "source": [
    "It is easy to see and prove by induction, that if we have initial deposit $D_0$ and different contribution per compound $c$ then the general formula changes to:\n",
    "$D_n = D_0 q^{nm} + c \\sum_{i=0}^{nm-1} q^i$ and $D_n = D_0 q^{nm} + c \\cdot \\frac{1 - q^{nm}}{1-q}$"
   ]
  },
  {
   "cell_type": "code",
   "execution_count": 6,
   "metadata": {},
   "outputs": [
    {
     "name": "stdout",
     "output_type": "stream",
     "text": [
      "190733.1278874076 186016.4132248951\n"
     ]
    }
   ],
   "source": [
    "def deposit_years(initial_deposit: float, years: int, frequency: int,\n",
    "                  interest: float, tax: float = 0.19, contribution: float = 0, contrib_years: int = 0):\n",
    "    \"\"\"Calculate deposit amount after number of years.\"\"\"\n",
    "    if contribution == 0: # not contributing, then exponential function\n",
    "        D_n = initial_deposit * (1 + interest * (1 - tax) / frequency)**(years * frequency)\n",
    "        return D_n\n",
    "    else: # contributing then geometric series\n",
    "        contribution = contribution / frequency\n",
    "        r = interest / frequency * (1-tax)\n",
    "        c_y = contrib_years # years with contributing\n",
    "        n_y = years - contrib_years # years without contributing\n",
    "        D_c_y = (initial_deposit\n",
    "               * (1 + r)**(c_y * frequency)\n",
    "               + contribution * (1 - (1+r)**(c_y*frequency)) / (-r) ) # deposit after years of contribution\n",
    "        D_n = deposit_years(D_c_y, years=n_y, frequency=frequency, interest=interest, tax=tax) # deposit after years without contributing\n",
    "        return D_n\n",
    "\n",
    "def deposit(initial_deposit: float, n: int, frequency: int, interest: float,\n",
    "            tax: float = 0.19, contribution: float = 0, contrib_periods: int = 0):\n",
    "    \"\"\"Calculate deposit amount after n compound periods.\"\"\"\n",
    "    if contribution == 0: # not contributing, then exponential function\n",
    "        D_n = initial_deposit * (1 + interest * (1 - tax) / frequency)**n\n",
    "        return D_n\n",
    "    else: # contributing then geometric series\n",
    "        r = interest / frequency * (1-tax)\n",
    "        c_n = contrib_periods # periods with contributing\n",
    "        n_n = n - contrib_periods # periods without contributing\n",
    "        D_c_y = (initial_deposit\n",
    "                 * (1 + r)**(c_n * frequency)\n",
    "                 + contribution * (1 - (1+r)**(c_n*frequency)) / (-r) ) # deposit after periods of contribution\n",
    "        D_n = deposit(D_c_y, n=n_n, frequency=frequency, interest=interest, tax=tax) # deposit after periods without contributing\n",
    "        return D_n\n",
    "\n",
    "d1 = deposit_years(initial_deposit=2000, years=65-22, frequency=1, interest=0.06, tax=0.19, contrib_years=39-22, contribution=2000)\n",
    "d2 = deposit_years(initial_deposit=2000, years=66-31, frequency=1, interest=0.06, tax=0.19, contrib_years=66-31, contribution=2000)"
   ]
  },
  {
   "cell_type": "code",
   "execution_count": 7,
   "metadata": {},
   "outputs": [],
   "source": [
    "def deposit_test(initial_deposit: float, n: int, frequency: int, interest: float,\n",
    "                 tax: float = 0.19, contribution: float = 0, contrib_periods: int = 0):\n",
    "    \"\"\"Compute deposit amount after n compound periods.\"\"\"\n",
    "    d_n = initial_deposit\n",
    "    r = interest / frequency * (1-tax)\n",
    "    for i in range(contrib_periods):\n",
    "        d_n = d_n * (1+r) + contribution\n",
    "        print(f'period={i+1} with contribution, deposit={d_n:.2f}')\n",
    "    for i in range(n - contrib_periods):\n",
    "        d_n = d_n * (1+r)\n",
    "        print(f'period={i+1} without contribution, deposit={d_n:.2f}')\n",
    "    return d_n\n",
    "\n",
    "#deposit_test(initial_deposit=2000, n=65-22, frequency=1, interest=0.06, tax=0, contrib_periods=39-22, contribution=2000)\n",
    "#deposit_test(initial_deposit=2000, n=66-31, frequency=1, interest=0.06, tax=0, contrib_periods=66-31, contribution=2000)\n",
    "#deposit_test(initial_deposit=1000, n=20*12, frequency=12, interest=0.05, tax=0.19, contrib_periods=10*12, contribution=1000/12)\n",
    "#deposit_years(initial_deposit=1000, years=20, frequency=12, interest=0.05, tax=0.19, contrib_years=10, contribution=1000)"
   ]
  },
  {
   "cell_type": "markdown",
   "metadata": {},
   "source": [
    "### Calculators and plots"
   ]
  },
  {
   "cell_type": "code",
   "execution_count": 8,
   "metadata": {},
   "outputs": [
    {
     "data": {
      "application/vnd.jupyter.widget-view+json": {
       "model_id": "2122ae76f9094480b335dd19eff38281",
       "version_major": 2,
       "version_minor": 0
      },
      "text/plain": [
       "interactive(children=(FloatText(value=1000.0, description='Deposit:', step=100.0), IntRangeSlider(value=(1, 40…"
      ]
     },
     "metadata": {},
     "output_type": "display_data"
    }
   ],
   "source": [
    "def plot_deposit(initial_deposit: float, years: Tuple[int, int], frequencies: str, interests: str,\n",
    "                 tax: float = 0.19, contribution: float = 0, contrib_years: int = 0):\n",
    "    \"\"\"Plot deposit amount as a function of periods for different compounding frequencies.\"\"\"\n",
    "    years_range = np.arange(1, years[1]+1)\n",
    "    frequencies = list(map(int, frequencies.split(',')))\n",
    "    interests = list(map(float, interests.split(',')))\n",
    "    for m, p in zip(frequencies, interests):\n",
    "        d_n = deposit_years(initial_deposit, years_range, m, p, tax, contribution, contrib_years)\n",
    "        plt.plot(years_range, d_n)\n",
    "    plt.xlabel('years')\n",
    "    plt.ylabel('amount')\n",
    "    plt.xlim(*years)\n",
    "    plt.title(f'Investment: {initial_deposit+contribution*contrib_years:.2f}')\n",
    "    plt.legend(labels=list(zip(frequencies, interests)), title='Frequency and interest')\n",
    "    plt.show()\n",
    "\n",
    "interact(plot_deposit, initial_deposit=deposit_text, years=years_range_slider, frequencies=frequencies_text,\n",
    "         interests=interest_text, tax=tax_slider, contribution=contribution_text, contrib_years=contribution_years_slider);"
   ]
  }
 ],
 "metadata": {
  "kernelspec": {
   "display_name": "Python 3 (ipykernel)",
   "language": "python",
   "name": "python3"
  },
  "language_info": {
   "codemirror_mode": {
    "name": "ipython",
    "version": 3
   },
   "file_extension": ".py",
   "mimetype": "text/x-python",
   "name": "python",
   "nbconvert_exporter": "python",
   "pygments_lexer": "ipython3",
   "version": "3.11.1"
  }
 },
 "nbformat": 4,
 "nbformat_minor": 1
}
