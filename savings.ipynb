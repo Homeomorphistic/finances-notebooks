{
 "cells": [
  {
   "cell_type": "code",
   "execution_count": 1,
   "metadata": {},
   "outputs": [],
   "source": [
    "#! pip install ipywidgets\n",
    "#! jupyter nbextension enable --py widgetsnbextension --sys-prefix\n",
    "from ipywidgets import interact\n",
    "from ipywidgets.widgets import FloatText, BoundedIntText, FloatSlider, IntSlider, IntRangeSlider, fixed, Text\n",
    "\n",
    "import numpy as np\n",
    "import matplotlib.pyplot as plt\n",
    "\n",
    "from typing import Tuple, Iterable"
   ]
  },
  {
   "cell_type": "code",
   "execution_count": 9,
   "metadata": {},
   "outputs": [],
   "source": [
    "# Widgets for interactive functions / plots\n",
    "style = {'description_width': 'initial'}\n",
    "\n",
    "deposit_text = FloatText(value=1000, step=100, description='Deposit:')\n",
    "\n",
    "contribution_text = FloatText(value=100, step=10, description='Yearly contribution:', style=style)\n",
    "\n",
    "contribution_years_slider = IntSlider(value=0, step=1, min=0, max=100, description='Contribution years:', style=style)\n",
    "\n",
    "interest_slider = FloatSlider(value=0.05, step=0.01, min=0, max=0.25, description='Interest:')\n",
    "interest_text = Text(value='0.05, 0.05, 0.05, 0.05, 0.05, 0.05', description=\"Interests\")\n",
    "\n",
    "tax_slider = FloatSlider(value=0.19, step=0.01, min=0, max=0.30, description='Tax:')\n",
    "\n",
    "years_slider = IntSlider(value=1, step=1, min=1, max=100, description='Years:')\n",
    "years_range_slider = IntRangeSlider(value=(1, 40), step=1, min=1, max=100, description='Years:')\n",
    "\n",
    "frequency_slider = IntSlider(value=1, step=1, min=1, max=12, description='Frequency:')\n",
    "frequencies_text = Text(value='1, 2, 3, 4, 12', description=\"frequencies\")"
   ]
  },
  {
   "cell_type": "markdown",
   "metadata": {},
   "source": [
    "# Savings"
   ]
  },
  {
   "cell_type": "markdown",
   "metadata": {},
   "source": [
    " ### Time deposit\n",
    " Time deposits normally earn interest, which is normally fixed for the duration of the term and payable upon maturity, though some may be paid periodically during the term, especially with longer-term deposits. Generally, the longer the term and the larger the deposit amount the higher the interest rate that will be offered.\n",
    "\n",
    " source: https://en.wikipedia.org/wiki/Time_deposit"
   ]
  },
  {
   "cell_type": "markdown",
   "metadata": {},
   "source": [
    "#### Certificate of deposit (lokata?)\n",
    "CD has a specific, fixed term (often one, three, or six months, or one to five years) and usually, a fixed interest rate. The bank expects the CD to be held until maturity, at which time they can be withdrawn and interest paid. CDs are insured \"money in the bank\" (in the EU up to 100 000 euros) and thus, up to the local insured deposit limit, virtually risk free.\n",
    "https://en.wikipedia.org/wiki/Certificate_of_deposit"
   ]
  },
  {
   "cell_type": "markdown",
   "metadata": {},
   "source": [
    "In real world scenarios we need to add in taxes, which are took from your earned interest. Given initial deposit $D_0$ after $n$ periods with $p\\%$ periodic interest rate, $s\\%$ tax fee and $m=1$ frequency of compounding, i.e. $D_n$ is equal to\n",
    "$D_n = D_{n-1} + D_{n-1} p\\% (1 - s\\%) = D_{n-1} \\left( 1 + p\\% (1 - s\\%) \\right) $\n",
    "\n",
    "Similarly when we take any $m$:\n",
    "$D_n = D_{n-1} \\left( 1 + \\frac{p\\%}{m} (1 - s\\%) \\right)^m $\n",
    "\n",
    "We can see that adding tax is actually just a change of percentage, so we can denote $r = p\\% (1 - s\\%)$ to simplify. With that we see that tax is not changing the theorem proved before, so:\n",
    "$D_n = D_0 \\left( 1 + \\frac{r}{m} \\right)^{mn}$"
   ]
  },
  {
   "cell_type": "code",
   "execution_count": 3,
   "metadata": {},
   "outputs": [],
   "source": [
    "def deposit_years(initial_deposit: float, years: int, frequency: int, interest: float, tax: float = 0.19):\n",
    "    \"\"\"Compute deposit amount after number of years.\"\"\"\n",
    "    return initial_deposit * (1 + interest * (1 - tax) / frequency)**(years * frequency)\n",
    "\n",
    "def deposit(initial_deposit: float, n: int, frequency: int, interest: float, tax: float = 0.19):\n",
    "    \"\"\"Compute deposit amount after n compound periods.\"\"\"\n",
    "    return initial_deposit * (1 + interest * (1 - tax) / frequency)**n"
   ]
  },
  {
   "cell_type": "markdown",
   "metadata": {},
   "source": [
    "### Deposit calculators"
   ]
  },
  {
   "cell_type": "code",
   "execution_count": 4,
   "metadata": {},
   "outputs": [
    {
     "data": {
      "application/vnd.jupyter.widget-view+json": {
       "model_id": "922abef9bd684ff2b238d67ec313ce73",
       "version_major": 2,
       "version_minor": 0
      },
      "text/plain": [
       "interactive(children=(FloatText(value=1000.0, description='Deposit:', step=100.0), IntSlider(value=1, descript…"
      ]
     },
     "metadata": {},
     "output_type": "display_data"
    }
   ],
   "source": [
    "def pretty_print_deposits(initial_deposit, years, frequency, interest, tax):\n",
    "    return f'Deposit after {years} years, with frequency {frequency}, {interest} interest rate and tax {tax}: {deposit_years(initial_deposit, years, frequency, interest, tax)}'\n",
    "\n",
    "interact(pretty_print_deposits, initial_deposit=deposit_text, years=years_slider, frequency=frequency_slider, interest=interest_slider, tax=tax_slider);"
   ]
  },
  {
   "cell_type": "code",
   "execution_count": 5,
   "metadata": {},
   "outputs": [
    {
     "data": {
      "application/vnd.jupyter.widget-view+json": {
       "model_id": "a085ca9cdb08431a8c481b06b48538c0",
       "version_major": 2,
       "version_minor": 0
      },
      "text/plain": [
       "interactive(children=(FloatText(value=1000.0, description='Deposit:', step=100.0), IntRangeSlider(value=(70, 9…"
      ]
     },
     "metadata": {},
     "output_type": "display_data"
    }
   ],
   "source": [
    "def plot_deposits(initial_deposit: float, years: Tuple[int, int], frequencies: str, interests: str, tax: float = 0.19):\n",
    "    \"\"\"Plot deposit amount as a function of periods for different compounding frequencies.\"\"\"\n",
    "    years = np.arange(*years)\n",
    "    frequencies = list(map(int, frequencies.split(',')))\n",
    "    interests = list(map(float, interests.split(',')))\n",
    "    for m, p in zip(frequencies, interests):\n",
    "        plt.plot(years, deposit_years(initial_deposit, years, m, p, tax))\n",
    "    plt.xlabel('years')\n",
    "    plt.ylabel('amount')\n",
    "    plt.title(f'Initial deposit: {initial_deposit}')\n",
    "    plt.legend(labels=list(zip(frequencies, interests)), title='Frequency and interest')\n",
    "    plt.show()\n",
    "\n",
    "interact(plot_deposits, initial_deposit=deposit_text, years=years_range_slider, frequencies=frequencies_text, interests=interest_text, tax=tax_slider);"
   ]
  },
  {
   "cell_type": "markdown",
   "metadata": {},
   "source": [
    "### Savings account\n",
    "Savings accounts are more flexible CDs usually pay interest monthly, but have limited number of withdrawals.\n",
    "\n",
    "https://en.wikipedia.org/wiki/Savings_account"
   ]
  },
  {
   "cell_type": "markdown",
   "metadata": {},
   "source": [
    "### Time deposits with contributions\n",
    "In real world scenario we will contribute to the deposit with each compounding period. Given initial deposit $D_0$ and the same amount of contribution for each compounding, after $n$ periods with $p\\%$ periodic interest rate, $s\\%$ tax fee and $m=1$ frequency of compounding, i.e. $D_n$ is equal to\n",
    "\n",
    "\\begin{align*}\n",
    "    r &= p\\% (1-s\\%) \\\\\n",
    "    q &= 1 + r \\\\\n",
    "    D_n &= D_{n-1} (1 + r) + D_0 = D_{n-1}q + D_0\n",
    "\\end{align*}\n",
    "\n",
    "Let's look at few first terms:\n",
    "\\begin{align*}\n",
    "    D_0 &= D_0 \\\\\n",
    "    D_1 &= D_0 q + D_0 \\\\\n",
    "    D_2 &= D_1 q + D_0  = D_0 q^2 + D_0 q + D_0 \\\\\n",
    "    D_3 &= D_2 q + D_0  = D_0 q^3 + D_0 q^2 + D_0 q + D_0 \\\\\n",
    "    \\vdots\n",
    "\\end{align*}\n",
    "so our conjecture is that $D_n = D_0 \\sum_{i=0}^{n} q^i$.\n",
    "\n",
    "##### Theorem\n",
    "$D_n = D_0 \\sum_{i=0}^{n} q^i$\n",
    "\n",
    "##### Proof by induction\n",
    "For $n=1$ we have $D_1 = D_0 q + D_0$ by definition.\n",
    "\n",
    "IH: $D_n = D_0 \\sum_{i=0}^{n} q^i$\n",
    "\n",
    "IS: $D_{n+1} = D_n q + D_0 = \\left( D_0 \\sum_{i=0}^{n} q^i \\right)q + D_0 = D_0 \\left[ \\sum_{i=1}^{n+1} q^i + 1 \\right] = D_0 \\left[ \\sum_{i=0}^{n+1} q^i \\right]$ and that finishes the proof.\n",
    "\n",
    "##### Corollary\n",
    "$D_n = D_0 \\cdot \\frac{1 - (1 + r)^{n+1}}{-r}.$\n",
    "\n",
    "##### Proof\n",
    "We know the formula for geometric series: $\\sum_{i=0}^{n} q^i = \\frac{1-q^{n+1}}{1-q} = \\frac{1 - (1 + r)^{n+1}}{-r}.$"
   ]
  },
  {
   "cell_type": "markdown",
   "metadata": {},
   "source": [
    "For any compounding frequency $m$ we need to add more equations:\n",
    "\n",
    "\\begin{align*}\n",
    "    D_{n-1, m} = D_{n,0} &= D_n \\\\\n",
    "    D_{n, 1} &= D_{n,0}q + D_0 \\\\\n",
    "    D_{n, 2} &= D_{n,1}q + D_0 = D_n q^2 + D_0 q + D_0  \\\\\n",
    "    D_{n, 3} &= D_{n,2}q + D_0 = D_n q^3+  D_0 q^2 + D_0 q + D_0  \\\\\n",
    "    \\vdots \\\\\n",
    "    D_{n, m-1} &= D_{n,m-2}q + D_0  = D_n q^{m-1} + D_0 \\sum_{i=0}^{m-2} q^i \\\\\n",
    "    D_{n+1} = D_{n,m} &= D_{n,m-1}q + D_0 = D_n q^{m} + D_0 \\sum_{i=0}^{m-1} q^i\n",
    "\\end{align*}\n",
    "\n",
    "Let's try substituting some first few equations:\n",
    "\\begin{align*}\n",
    "    D_0 &= D_0 \\\\\n",
    "    D_1 &= D_0 q^m + D_0 \\sum_{i=0}^{m-1} q^i = D_0 \\sum_{i=0}^{m} q^i\\\\\n",
    "    D_2 &= D_1 q^m + D_0 \\sum_{i=0}^{m-1} q^i = D_0 \\sum_{i=m}^{2m} q^i + D_0 \\sum_{i=0}^{m-1} q^i = D_0 \\sum_{i=0}^{2m} q^i  \\\\\n",
    "    D_3 &= D_2 q^m + D_0 \\sum_{i=0}^{m-1} q^i = D_0 \\sum_{i=m}^{3m} q^i + D_0 \\sum_{i=0}^{m-1} q^i = D_0 \\sum_{i=0}^{3m} q^i  \\\\\n",
    "    \\vdots\n",
    "\\end{align*}\n",
    "so our conjecture is that $D_n = D_0 \\sum_{i=0}^{nm} q^i$\n",
    "\n",
    "##### Theorem\n",
    "$D_n = D_0 \\sum_{i=0}^{nm} q^i$\n",
    "\n",
    "##### Proof by induction\n",
    "For $n=1$ we have $D_1 = D_0 q^m + D_0 \\sum_{i=0}^{m-1} = D_0 \\sum_{i=0}^{m}$ by definition.\n",
    "\n",
    "IH: $D_n = D_0 \\sum_{i=0}^{nm} q^i$\n",
    "\n",
    "IS: $D_{n+1} = D_n q^m + D_0 \\sum_{i=0}^{m-1} = \\left( D_0 \\sum_{i=0}^{nm} q^i \\right) q^m + D_0 \\sum_{i=0}^{m-1} q^i = D_0 \\sum_{i=m}^{(n+1)m} q^i + D_0 \\sum_{i=0}^{m-1} q^i = D_0 \\sum_{i=0}^{(n+1)m} q^i$ and that finishes the proof.\n",
    "\n",
    "##### Corollary\n",
    "$D_n = D_0 \\cdot \\frac{1 - (1 + r)^{nm+1}}{-r}.$\n",
    "\n",
    "##### Proof\n",
    "We know the formula for geometric series: $\\sum_{i=0}^{nm} q^i = \\frac{1-q^{nm+1}}{1-q} = \\frac{1 - (1 + r)^{nm+1}}{-r}.$"
   ]
  },
  {
   "cell_type": "markdown",
   "metadata": {},
   "source": [
    "It is easy to see and prove by induction, that if we have initial deposit $D_0$ and different contribution per compound $c$ then the general formula changes to:\n",
    "$D_n = D_0 q^{nm} + c \\sum_{i=0}^{nm-1} q^i$ and $D_n = D_0 q^{nm} + c \\cdot \\frac{1 - (1 + r)^{nm}}{r}$"
   ]
  },
  {
   "cell_type": "code",
   "execution_count": 6,
   "metadata": {},
   "outputs": [
    {
     "name": "stdout",
     "output_type": "stream",
     "text": [
      "190733.1278874076 186016.4132248951\n"
     ]
    }
   ],
   "source": [
    "def deposit_years(initial_deposit: float, years: int, frequency: int,\n",
    "                  interest: float, tax: float = 0.19, contribution: float = 0, contrib_years: int = 0):\n",
    "    \"\"\"Calculate deposit amount after number of years.\"\"\"\n",
    "    if contribution == 0: # not contributing, then exponential function\n",
    "        D_n = initial_deposit * (1 + interest * (1 - tax) / frequency)**(years * frequency)\n",
    "        return D_n\n",
    "    else: # contributing then geometric series\n",
    "        contribution = contribution / frequency\n",
    "        r = interest / frequency * (1-tax)\n",
    "        c_y = contrib_years # years with contributing\n",
    "        n_y = years - contrib_years # years without contributing\n",
    "        D_c_y = (initial_deposit\n",
    "               * (1 + r)**(c_y * frequency)\n",
    "               + contribution * (1 - (1+r)**(c_y*frequency)) / (-r) ) # deposit after years of contribution\n",
    "        D_n = deposit_years(D_c_y, years=n_y, frequency=frequency, interest=interest, tax=tax) # deposit after years without contributing\n",
    "        return D_n\n",
    "\n",
    "def deposit(initial_deposit: float, n: int, frequency: int, interest: float,\n",
    "            tax: float = 0.19, contribution: float = 0, contrib_periods: int = 0):\n",
    "    \"\"\"Calculate deposit amount after n compound periods.\"\"\"\n",
    "    if contribution == 0: # not contributing, then exponential function\n",
    "        D_n = initial_deposit * (1 + interest * (1 - tax) / frequency)**n\n",
    "        return D_n\n",
    "    else: # contributing then geometric series\n",
    "        r = interest / frequency * (1-tax)\n",
    "        c_n = contrib_periods # periods with contributing\n",
    "        n_n = n - contrib_periods # periods without contributing\n",
    "        D_c_y = (initial_deposit\n",
    "                 * (1 + r)**(c_n * frequency)\n",
    "                 + contribution * (1 - (1+r)**(c_n*frequency)) / (-r) ) # deposit after periods of contribution\n",
    "        D_n = deposit(D_c_y, n=n_n, frequency=frequency, interest=interest, tax=tax) # deposit after periods without contributing\n",
    "        return D_n\n",
    "\n",
    "d1 = deposit_years(initial_deposit=2000, years=65-22, frequency=1, interest=0.06, tax=0.19, contrib_years=39-22, contribution=2000)\n",
    "d2 = deposit_years(initial_deposit=2000, years=66-31, frequency=1, interest=0.06, tax=0.19, contrib_years=66-31, contribution=2000)\n",
    "print(d1, d2)"
   ]
  },
  {
   "cell_type": "markdown",
   "metadata": {},
   "source": [
    "2k yearly, 6%, 22-39 (17) -> at 65 (34k invested) 362k\n",
    "2k yearly, 6% 31-66 (35) -> (70k invested) 180k"
   ]
  },
  {
   "cell_type": "code",
   "execution_count": 7,
   "metadata": {},
   "outputs": [
    {
     "name": "stdout",
     "output_type": "stream",
     "text": [
      "period=1 with contribution, deposit=1086.71\n",
      "period=2 with contribution, deposit=1173.71\n",
      "period=3 with contribution, deposit=1261.00\n",
      "period=4 with contribution, deposit=1348.59\n",
      "period=5 with contribution, deposit=1436.48\n",
      "period=6 with contribution, deposit=1524.66\n",
      "period=7 with contribution, deposit=1613.14\n",
      "period=8 with contribution, deposit=1701.92\n",
      "period=9 with contribution, deposit=1790.99\n",
      "period=10 with contribution, deposit=1880.37\n",
      "period=11 with contribution, deposit=1970.05\n",
      "period=12 with contribution, deposit=2060.03\n",
      "period=13 with contribution, deposit=2150.32\n",
      "period=14 with contribution, deposit=2240.91\n",
      "period=15 with contribution, deposit=2331.81\n",
      "period=16 with contribution, deposit=2423.01\n",
      "period=17 with contribution, deposit=2514.52\n",
      "period=18 with contribution, deposit=2606.34\n",
      "period=19 with contribution, deposit=2698.47\n",
      "period=20 with contribution, deposit=2790.91\n",
      "period=21 with contribution, deposit=2883.66\n",
      "period=22 with contribution, deposit=2976.73\n",
      "period=23 with contribution, deposit=3070.11\n",
      "period=24 with contribution, deposit=3163.80\n",
      "period=25 with contribution, deposit=3257.81\n",
      "period=26 with contribution, deposit=3352.14\n",
      "period=27 with contribution, deposit=3446.79\n",
      "period=28 with contribution, deposit=3541.76\n",
      "period=29 with contribution, deposit=3637.04\n",
      "period=30 with contribution, deposit=3732.65\n",
      "period=31 with contribution, deposit=3828.58\n",
      "period=32 with contribution, deposit=3924.84\n",
      "period=33 with contribution, deposit=4021.42\n",
      "period=34 with contribution, deposit=4118.32\n",
      "period=35 with contribution, deposit=4215.56\n",
      "period=36 with contribution, deposit=4313.12\n",
      "period=37 with contribution, deposit=4411.01\n",
      "period=38 with contribution, deposit=4509.23\n",
      "period=39 with contribution, deposit=4607.78\n",
      "period=40 with contribution, deposit=4706.66\n",
      "period=41 with contribution, deposit=4805.88\n",
      "period=42 with contribution, deposit=4905.43\n",
      "period=43 with contribution, deposit=5005.32\n",
      "period=44 with contribution, deposit=5105.55\n",
      "period=45 with contribution, deposit=5206.11\n",
      "period=46 with contribution, deposit=5307.02\n",
      "period=47 with contribution, deposit=5408.26\n",
      "period=48 with contribution, deposit=5509.85\n",
      "period=49 with contribution, deposit=5611.78\n",
      "period=50 with contribution, deposit=5714.05\n",
      "period=51 with contribution, deposit=5816.67\n",
      "period=52 with contribution, deposit=5919.63\n",
      "period=53 with contribution, deposit=6022.95\n",
      "period=54 with contribution, deposit=6126.61\n",
      "period=55 with contribution, deposit=6230.62\n",
      "period=56 with contribution, deposit=6334.98\n",
      "period=57 with contribution, deposit=6439.69\n",
      "period=58 with contribution, deposit=6544.76\n",
      "period=59 with contribution, deposit=6650.18\n",
      "period=60 with contribution, deposit=6755.96\n",
      "period=61 with contribution, deposit=6862.10\n",
      "period=62 with contribution, deposit=6968.59\n",
      "period=63 with contribution, deposit=7075.44\n",
      "period=64 with contribution, deposit=7182.65\n",
      "period=65 with contribution, deposit=7290.23\n",
      "period=66 with contribution, deposit=7398.17\n",
      "period=67 with contribution, deposit=7506.47\n",
      "period=68 with contribution, deposit=7615.14\n",
      "period=69 with contribution, deposit=7724.17\n",
      "period=70 with contribution, deposit=7833.57\n",
      "period=71 with contribution, deposit=7943.34\n",
      "period=72 with contribution, deposit=8053.49\n",
      "period=73 with contribution, deposit=8164.00\n",
      "period=74 with contribution, deposit=8274.89\n",
      "period=75 with contribution, deposit=8386.15\n",
      "period=76 with contribution, deposit=8497.78\n",
      "period=77 with contribution, deposit=8609.80\n",
      "period=78 with contribution, deposit=8722.19\n",
      "period=79 with contribution, deposit=8834.96\n",
      "period=80 with contribution, deposit=8948.11\n",
      "period=81 with contribution, deposit=9061.64\n",
      "period=82 with contribution, deposit=9175.56\n",
      "period=83 with contribution, deposit=9289.86\n",
      "period=84 with contribution, deposit=9404.55\n",
      "period=85 with contribution, deposit=9519.62\n",
      "period=86 with contribution, deposit=9635.08\n",
      "period=87 with contribution, deposit=9750.94\n",
      "period=88 with contribution, deposit=9867.18\n",
      "period=89 with contribution, deposit=9983.81\n",
      "period=90 with contribution, deposit=10100.84\n",
      "period=91 with contribution, deposit=10218.27\n",
      "period=92 with contribution, deposit=10336.09\n",
      "period=93 with contribution, deposit=10454.30\n",
      "period=94 with contribution, deposit=10572.92\n",
      "period=95 with contribution, deposit=10691.94\n",
      "period=96 with contribution, deposit=10811.36\n",
      "period=97 with contribution, deposit=10931.18\n",
      "period=98 with contribution, deposit=11051.40\n",
      "period=99 with contribution, deposit=11172.04\n",
      "period=100 with contribution, deposit=11293.07\n",
      "period=101 with contribution, deposit=11414.52\n",
      "period=102 with contribution, deposit=11536.38\n",
      "period=103 with contribution, deposit=11658.65\n",
      "period=104 with contribution, deposit=11781.33\n",
      "period=105 with contribution, deposit=11904.42\n",
      "period=106 with contribution, deposit=12027.94\n",
      "period=107 with contribution, deposit=12151.86\n",
      "period=108 with contribution, deposit=12276.21\n",
      "period=109 with contribution, deposit=12400.97\n",
      "period=110 with contribution, deposit=12526.16\n",
      "period=111 with contribution, deposit=12651.77\n",
      "period=112 with contribution, deposit=12777.80\n",
      "period=113 with contribution, deposit=12904.26\n",
      "period=114 with contribution, deposit=13031.15\n",
      "period=115 with contribution, deposit=13158.46\n",
      "period=116 with contribution, deposit=13286.20\n",
      "period=117 with contribution, deposit=13414.38\n",
      "period=118 with contribution, deposit=13542.98\n",
      "period=119 with contribution, deposit=13672.03\n",
      "period=120 with contribution, deposit=13801.50\n",
      "period=1 without contribution, deposit=13848.08\n",
      "period=2 without contribution, deposit=13894.82\n",
      "period=3 without contribution, deposit=13941.71\n",
      "period=4 without contribution, deposit=13988.77\n",
      "period=5 without contribution, deposit=14035.98\n",
      "period=6 without contribution, deposit=14083.35\n",
      "period=7 without contribution, deposit=14130.88\n",
      "period=8 without contribution, deposit=14178.57\n",
      "period=9 without contribution, deposit=14226.43\n",
      "period=10 without contribution, deposit=14274.44\n",
      "period=11 without contribution, deposit=14322.62\n",
      "period=12 without contribution, deposit=14370.96\n",
      "period=13 without contribution, deposit=14419.46\n",
      "period=14 without contribution, deposit=14468.12\n",
      "period=15 without contribution, deposit=14516.95\n",
      "period=16 without contribution, deposit=14565.95\n",
      "period=17 without contribution, deposit=14615.11\n",
      "period=18 without contribution, deposit=14664.43\n",
      "period=19 without contribution, deposit=14713.93\n",
      "period=20 without contribution, deposit=14763.59\n",
      "period=21 without contribution, deposit=14813.41\n",
      "period=22 without contribution, deposit=14863.41\n",
      "period=23 without contribution, deposit=14913.57\n",
      "period=24 without contribution, deposit=14963.91\n",
      "period=25 without contribution, deposit=15014.41\n",
      "period=26 without contribution, deposit=15065.08\n",
      "period=27 without contribution, deposit=15115.93\n",
      "period=28 without contribution, deposit=15166.94\n",
      "period=29 without contribution, deposit=15218.13\n",
      "period=30 without contribution, deposit=15269.49\n",
      "period=31 without contribution, deposit=15321.03\n",
      "period=32 without contribution, deposit=15372.74\n",
      "period=33 without contribution, deposit=15424.62\n",
      "period=34 without contribution, deposit=15476.68\n",
      "period=35 without contribution, deposit=15528.91\n",
      "period=36 without contribution, deposit=15581.32\n",
      "period=37 without contribution, deposit=15633.91\n",
      "period=38 without contribution, deposit=15686.67\n",
      "period=39 without contribution, deposit=15739.62\n",
      "period=40 without contribution, deposit=15792.74\n",
      "period=41 without contribution, deposit=15846.04\n",
      "period=42 without contribution, deposit=15899.52\n",
      "period=43 without contribution, deposit=15953.18\n",
      "period=44 without contribution, deposit=16007.02\n",
      "period=45 without contribution, deposit=16061.04\n",
      "period=46 without contribution, deposit=16115.25\n",
      "period=47 without contribution, deposit=16169.64\n",
      "period=48 without contribution, deposit=16224.21\n",
      "period=49 without contribution, deposit=16278.97\n",
      "period=50 without contribution, deposit=16333.91\n",
      "period=51 without contribution, deposit=16389.04\n",
      "period=52 without contribution, deposit=16444.35\n",
      "period=53 without contribution, deposit=16499.85\n",
      "period=54 without contribution, deposit=16555.54\n",
      "period=55 without contribution, deposit=16611.41\n",
      "period=56 without contribution, deposit=16667.47\n",
      "period=57 without contribution, deposit=16723.73\n",
      "period=58 without contribution, deposit=16780.17\n",
      "period=59 without contribution, deposit=16836.80\n",
      "period=60 without contribution, deposit=16893.63\n",
      "period=61 without contribution, deposit=16950.64\n",
      "period=62 without contribution, deposit=17007.85\n",
      "period=63 without contribution, deposit=17065.25\n",
      "period=64 without contribution, deposit=17122.85\n",
      "period=65 without contribution, deposit=17180.64\n",
      "period=66 without contribution, deposit=17238.62\n",
      "period=67 without contribution, deposit=17296.80\n",
      "period=68 without contribution, deposit=17355.18\n",
      "period=69 without contribution, deposit=17413.75\n",
      "period=70 without contribution, deposit=17472.52\n",
      "period=71 without contribution, deposit=17531.49\n",
      "period=72 without contribution, deposit=17590.66\n",
      "period=73 without contribution, deposit=17650.03\n",
      "period=74 without contribution, deposit=17709.60\n",
      "period=75 without contribution, deposit=17769.37\n",
      "period=76 without contribution, deposit=17829.34\n",
      "period=77 without contribution, deposit=17889.52\n",
      "period=78 without contribution, deposit=17949.89\n",
      "period=79 without contribution, deposit=18010.47\n",
      "period=80 without contribution, deposit=18071.26\n",
      "period=81 without contribution, deposit=18132.25\n",
      "period=82 without contribution, deposit=18193.45\n",
      "period=83 without contribution, deposit=18254.85\n",
      "period=84 without contribution, deposit=18316.46\n",
      "period=85 without contribution, deposit=18378.28\n",
      "period=86 without contribution, deposit=18440.30\n",
      "period=87 without contribution, deposit=18502.54\n",
      "period=88 without contribution, deposit=18564.99\n",
      "period=89 without contribution, deposit=18627.64\n",
      "period=90 without contribution, deposit=18690.51\n",
      "period=91 without contribution, deposit=18753.59\n",
      "period=92 without contribution, deposit=18816.89\n",
      "period=93 without contribution, deposit=18880.39\n",
      "period=94 without contribution, deposit=18944.11\n",
      "period=95 without contribution, deposit=19008.05\n",
      "period=96 without contribution, deposit=19072.20\n",
      "period=97 without contribution, deposit=19136.57\n",
      "period=98 without contribution, deposit=19201.16\n",
      "period=99 without contribution, deposit=19265.96\n",
      "period=100 without contribution, deposit=19330.98\n",
      "period=101 without contribution, deposit=19396.23\n",
      "period=102 without contribution, deposit=19461.69\n",
      "period=103 without contribution, deposit=19527.37\n",
      "period=104 without contribution, deposit=19593.28\n",
      "period=105 without contribution, deposit=19659.40\n",
      "period=106 without contribution, deposit=19725.75\n",
      "period=107 without contribution, deposit=19792.33\n",
      "period=108 without contribution, deposit=19859.13\n",
      "period=109 without contribution, deposit=19926.15\n",
      "period=110 without contribution, deposit=19993.40\n",
      "period=111 without contribution, deposit=20060.88\n",
      "period=112 without contribution, deposit=20128.59\n",
      "period=113 without contribution, deposit=20196.52\n",
      "period=114 without contribution, deposit=20264.68\n",
      "period=115 without contribution, deposit=20333.08\n",
      "period=116 without contribution, deposit=20401.70\n",
      "period=117 without contribution, deposit=20470.56\n",
      "period=118 without contribution, deposit=20539.64\n",
      "period=119 without contribution, deposit=20608.97\n",
      "period=120 without contribution, deposit=20678.52\n"
     ]
    },
    {
     "data": {
      "text/plain": [
       "20678.520763438974"
      ]
     },
     "execution_count": 7,
     "metadata": {},
     "output_type": "execute_result"
    }
   ],
   "source": [
    "def deposit_test(initial_deposit: float, n: int, frequency: int, interest: float,\n",
    "                 tax: float = 0.19, contribution: float = 0, contrib_periods: int = 0):\n",
    "    \"\"\"Compute deposit amount after n compound periods.\"\"\"\n",
    "    d_n = initial_deposit\n",
    "    r = interest / frequency * (1-tax)\n",
    "    for i in range(contrib_periods):\n",
    "        d_n = d_n * (1+r) + contribution\n",
    "        print(f'period={i+1} with contribution, deposit={d_n:.2f}')\n",
    "    for i in range(n - contrib_periods):\n",
    "        d_n = d_n * (1+r)\n",
    "        print(f'period={i+1} without contribution, deposit={d_n:.2f}')\n",
    "    return d_n\n",
    "\n",
    "#deposit_test(initial_deposit=2000, n=65-22, frequency=1, interest=0.06, tax=0, contrib_periods=39-22, contribution=2000)\n",
    "#deposit_test(initial_deposit=2000, n=66-31, frequency=1, interest=0.06, tax=0, contrib_periods=66-31, contribution=2000)\n",
    "#deposit_test(initial_deposit=1000, n=20*12, frequency=12, interest=0.05, tax=0.19, contrib_periods=10*12, contribution=1000/12)\n",
    "#deposit_years(initial_deposit=1000, years=20, frequency=12, interest=0.05, tax=0.19, contrib_years=10, contribution=1000)"
   ]
  },
  {
   "cell_type": "markdown",
   "metadata": {},
   "source": [
    "### Calculators and plots"
   ]
  },
  {
   "cell_type": "code",
   "execution_count": 8,
   "metadata": {},
   "outputs": [
    {
     "data": {
      "application/vnd.jupyter.widget-view+json": {
       "model_id": "308db5c0aa8d4a6eafabdf9ad9c337ee",
       "version_major": 2,
       "version_minor": 0
      },
      "text/plain": [
       "interactive(children=(FloatText(value=1000.0, description='Deposit:', step=100.0), IntRangeSlider(value=(70, 9…"
      ]
     },
     "metadata": {},
     "output_type": "display_data"
    }
   ],
   "source": [
    "def plot_deposit(initial_deposit: float, years: Tuple[int, int], frequencies: str, interests: str,\n",
    "                 tax: float = 0.19, contribution: float = 0, contrib_years: int = 0):\n",
    "    \"\"\"Plot deposit amount as a function of periods for different compounding frequencies.\"\"\"\n",
    "    years_range = np.arange(1, years[1]+1)\n",
    "    frequencies = list(map(int, frequencies.split(',')))\n",
    "    interests = list(map(float, interests.split(',')))\n",
    "    for m, p in zip(frequencies, interests):\n",
    "        d_n = deposit_years(initial_deposit, years_range, m, p, tax, contribution, contrib_years)\n",
    "        plt.plot(years_range, d_n)\n",
    "    plt.xlabel('years')\n",
    "    plt.ylabel('amount')\n",
    "    plt.xlim(*years)\n",
    "    plt.title(f'Investment: {initial_deposit+contribution*contrib_years:.2f}')\n",
    "    plt.legend(labels=list(zip(frequencies, interests)), title='Frequency and interest')\n",
    "    plt.show()\n",
    "\n",
    "interact(plot_deposit, initial_deposit=deposit_text, years=years_range_slider, frequencies=frequencies_text,\n",
    "         interests=interest_text, tax=tax_slider, contribution=contribution_text, contrib_years=contribution_years_slider);"
   ]
  }
 ],
 "metadata": {
  "kernelspec": {
   "display_name": "Python 3 (ipykernel)",
   "language": "python",
   "name": "python3"
  },
  "language_info": {
   "codemirror_mode": {
    "name": "ipython",
    "version": 3
   },
   "file_extension": ".py",
   "mimetype": "text/x-python",
   "name": "python",
   "nbconvert_exporter": "python",
   "pygments_lexer": "ipython3",
   "version": "3.9.0"
  }
 },
 "nbformat": 4,
 "nbformat_minor": 1
}
