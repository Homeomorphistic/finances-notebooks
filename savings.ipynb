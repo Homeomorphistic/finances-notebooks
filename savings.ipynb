{
 "cells": [
  {
   "cell_type": "code",
   "execution_count": 1,
   "metadata": {},
   "outputs": [],
   "source": [
    "#! pip install ipywidgets\n",
    "#! jupyter nbextension enable --py widgetsnbextension --sys-prefix\n",
    "from ipywidgets import interact\n",
    "from ipywidgets.widgets import FloatText, BoundedIntText, FloatSlider, IntSlider, IntRangeSlider, fixed, Text\n",
    "\n",
    "import numpy as np\n",
    "import matplotlib.pyplot as plt\n",
    "\n",
    "from typing import Tuple, Iterable"
   ]
  },
  {
   "cell_type": "code",
   "execution_count": 2,
   "metadata": {},
   "outputs": [],
   "source": [
    "# Widgets for interactive functions / plots\n",
    "style = {'description_width': 'initial'}\n",
    "\n",
    "deposit_text = FloatText(value=1000, step=100, description='Deposit:')\n",
    "\n",
    "contribution_text = FloatText(value=100, step=10, description='Yearly contribution:', style=style)\n",
    "\n",
    "contribution_years_slider = IntSlider(value=0, step=1, min=0, max=100, description='Contribution years:', style=style)\n",
    "\n",
    "interest_slider = FloatSlider(value=0.05, step=0.01, min=0, max=0.25, description='Interest:')\n",
    "inflation_slider = FloatSlider(value=0.17, step=0.01, min=0, max=0.25, description='Inflation:')\n",
    "interest_text = Text(value='0.10, 0.07', description=\"Interests\")\n",
    "\n",
    "tax_slider = FloatSlider(value=0.19, step=0.01, min=0, max=0.30, description='Tax:')\n",
    "\n",
    "years_slider = IntSlider(value=1, step=1, min=1, max=100, description='Years:')\n",
    "years_range_slider = IntRangeSlider(value=(0, 40), step=1, min=0, max=100, description='Years:')\n",
    "\n",
    "frequency_slider = IntSlider(value=1, step=1, min=1, max=12, description='Frequency:')\n",
    "frequencies_text = Text(value='2, 12', description=\"frequencies\")"
   ]
  },
  {
   "cell_type": "markdown",
   "metadata": {},
   "source": [
    "# Savings"
   ]
  },
  {
   "cell_type": "markdown",
   "metadata": {},
   "source": [
    " ### Time deposit\n",
    " Time deposits normally earn interest, which is normally fixed for the duration of the term and payable upon maturity, though some may be paid periodically during the term, especially with longer-term deposits. Generally, the longer the term and the larger the deposit amount the higher the interest rate that will be offered.\n",
    "\n",
    " source: https://en.wikipedia.org/wiki/Time_deposit"
   ]
  },
  {
   "cell_type": "markdown",
   "metadata": {},
   "source": [
    "#### Certificate of deposit (lokata?)\n",
    "CD has a specific, fixed term (often one, three, or six months, or one to five years) and usually, a fixed interest rate. The bank expects the CD to be held until maturity, at which time they can be withdrawn and interest paid. CDs are insured \"money in the bank\" (in the EU up to 100 000 euros) and thus, up to the local insured deposit limit, virtually risk free.\n",
    "https://en.wikipedia.org/wiki/Certificate_of_deposit"
   ]
  },
  {
   "cell_type": "markdown",
   "metadata": {},
   "source": [
    "In real world scenarios we need to add in taxes, which are took from your earned interest. Given initial deposit $D_0$ after $n$ periods with $p\\%$ periodic interest rate, $s\\%$ tax fee and $m=1$ frequency of compounding, i.e. $D_n$ is equal to\n",
    "$D_n = D_{n-1} + D_{n-1} p\\% (1 - s\\%) = D_{n-1} \\left( 1 + p\\% (1 - s\\%) \\right) $\n",
    "\n",
    "Similarly, when we take any $m$:\n",
    "$D_n = D_{n-1} \\left( 1 + \\frac{p\\%}{m} (1 - s\\%) \\right)^m $\n",
    "\n",
    "We can see that adding tax is actually just a change of percentage, so we can denote $r = p\\% (1 - s\\%)$ to simplify. With that we see that tax is not changing the theorem proved before, so:\n",
    "$D_n = D_0 \\left( 1 + \\frac{r}{m} \\right)^{mn}$"
   ]
  },
  {
   "cell_type": "code",
   "execution_count": 3,
   "metadata": {},
   "outputs": [],
   "source": [
    "def deposit_years(initial_deposit: float, years: int, frequency: int, interest: float, tax: float = 0.19):\n",
    "    \"\"\"Compute deposit amount after number of years.\"\"\"\n",
    "    return initial_deposit * (1 + interest * (1 - tax) / frequency)**(years * frequency)\n",
    "\n",
    "def deposit(initial_deposit: float, n: int, frequency: int, interest: float, tax: float = 0.19):\n",
    "    \"\"\"Compute deposit amount after n compound periods.\"\"\"\n",
    "    return initial_deposit * (1 + interest * (1 - tax) / frequency)**n"
   ]
  },
  {
   "cell_type": "markdown",
   "metadata": {},
   "source": [
    "### Deposit calculators"
   ]
  },
  {
   "cell_type": "code",
   "execution_count": 4,
   "metadata": {},
   "outputs": [
    {
     "data": {
      "application/vnd.jupyter.widget-view+json": {
       "model_id": "ec25f24b0c024b728697f249e6208d72",
       "version_major": 2,
       "version_minor": 0
      },
      "text/plain": [
       "interactive(children=(FloatText(value=1000.0, description='Deposit:', step=100.0), IntSlider(value=1, descript…"
      ]
     },
     "metadata": {},
     "output_type": "display_data"
    }
   ],
   "source": [
    "def pretty_print_deposits(initial_deposit, years, frequency, interest, tax):\n",
    "    return f'Deposit after {years} years, with frequency {frequency}, {interest} interest rate and tax {tax}: {deposit_years(initial_deposit, years, frequency, interest, tax)}'\n",
    "\n",
    "interact(pretty_print_deposits, initial_deposit=deposit_text, years=years_slider, frequency=frequency_slider, interest=interest_slider, tax=tax_slider);"
   ]
  },
  {
   "cell_type": "code",
   "execution_count": 5,
   "metadata": {},
   "outputs": [
    {
     "data": {
      "application/vnd.jupyter.widget-view+json": {
       "model_id": "8dffade937064425afbaaffb485b7604",
       "version_major": 2,
       "version_minor": 0
      },
      "text/plain": [
       "interactive(children=(FloatText(value=1000.0, description='Deposit:', step=100.0), IntRangeSlider(value=(0, 40…"
      ]
     },
     "metadata": {},
     "output_type": "display_data"
    }
   ],
   "source": [
    "def plot_deposits(initial_deposit: float, years: Tuple[int, int], frequencies: str, interests: str, tax: float = 0.19):\n",
    "    \"\"\"Plot deposit amount as a function of periods for different compounding frequencies.\"\"\"\n",
    "    years = np.arange(*years)\n",
    "    frequencies = list(map(int, frequencies.split(',')))\n",
    "    interests = list(map(float, interests.split(',')))\n",
    "    for m, p in zip(frequencies, interests):\n",
    "        plt.plot(years, deposit_years(initial_deposit, years, m, p, tax))\n",
    "    plt.xlabel('years')\n",
    "    plt.ylabel('amount')\n",
    "    plt.title(f'Initial deposit: {initial_deposit}')\n",
    "    plt.legend(labels=list(zip(frequencies, interests)), title='Frequency and interest')\n",
    "    plt.show()\n",
    "\n",
    "interact(plot_deposits, initial_deposit=deposit_text, years=years_range_slider, frequencies=frequencies_text, interests=interest_text, tax=tax_slider);"
   ]
  },
  {
   "cell_type": "markdown",
   "metadata": {},
   "source": [
    "### Savings account\n",
    "Savings accounts are more flexible CDs usually pay interest monthly, but have limited number of withdrawals.\n",
    "\n",
    "https://en.wikipedia.org/wiki/Savings_account"
   ]
  },
  {
   "cell_type": "markdown",
   "metadata": {},
   "source": [
    "### Time deposits with contributions\n",
    "In real world scenario we will contribute to the deposit with each compounding period. Given initial deposit $D_0$ and the same amount of contribution for each compounding, after $n$ periods with $p\\%$ periodic interest rate, $s\\%$ tax fee and $m=1$ frequency of compounding, i.e. $D_n$ is equal to\n",
    "\n",
    "\\begin{align*}\n",
    "    r &= p\\% (1-s\\%) \\\\\n",
    "    q &= 1 + r \\\\\n",
    "    D_n &= D_{n-1} (1 + r) + D_0 = D_{n-1}q + D_0\n",
    "\\end{align*}\n",
    "\n",
    "Let's look at few first terms:\n",
    "\\begin{align*}\n",
    "    D_0 &= D_0 \\\\\n",
    "    D_1 &= D_0 q + D_0 \\\\\n",
    "    D_2 &= D_1 q + D_0  = D_0 q^2 + D_0 q + D_0 \\\\\n",
    "    D_3 &= D_2 q + D_0  = D_0 q^3 + D_0 q^2 + D_0 q + D_0 \\\\\n",
    "    \\vdots\n",
    "\\end{align*}\n",
    "so our conjecture is that $D_n = D_0 \\sum_{i=0}^{n} q^i$.\n",
    "\n",
    "##### Theorem\n",
    "$D_n = D_0 \\sum_{i=0}^{n} q^i$\n",
    "\n",
    "##### Proof by induction\n",
    "For $n=1$ we have $D_1 = D_0 q + D_0$ by definition.\n",
    "\n",
    "IH: $D_n = D_0 \\sum_{i=0}^{n} q^i$\n",
    "\n",
    "IS: $D_{n+1} = D_n q + D_0 = \\left( D_0 \\sum_{i=0}^{n} q^i \\right)q + D_0 = D_0 \\left[ \\sum_{i=1}^{n+1} q^i + 1 \\right] = D_0 \\left[ \\sum_{i=0}^{n+1} q^i \\right]$ and that finishes the proof.\n",
    "\n",
    "##### Corollary\n",
    "$D_n = D_0 \\cdot \\frac{1 - (1 + r)^{n+1}}{-r}.$\n",
    "\n",
    "##### Proof\n",
    "We know the formula for geometric series: $\\sum_{i=0}^{n} q^i = \\frac{1-q^{n+1}}{1-q} = \\frac{1 - (1 + r)^{n+1}}{-r}.$"
   ]
  },
  {
   "cell_type": "markdown",
   "metadata": {},
   "source": [
    "For any compounding frequency $m$ we need to add more equations:\n",
    "\n",
    "\\begin{align*}\n",
    "    D_{n-1, m} = D_{n,0} &= D_n \\\\\n",
    "    D_{n, 1} &= D_{n,0}q + D_0 \\\\\n",
    "    D_{n, 2} &= D_{n,1}q + D_0 = D_n q^2 + D_0 q + D_0  \\\\\n",
    "    D_{n, 3} &= D_{n,2}q + D_0 = D_n q^3+  D_0 q^2 + D_0 q + D_0  \\\\\n",
    "    \\vdots \\\\\n",
    "    D_{n, m-1} &= D_{n,m-2}q + D_0  = D_n q^{m-1} + D_0 \\sum_{i=0}^{m-2} q^i \\\\\n",
    "    D_{n+1} = D_{n,m} &= D_{n,m-1}q + D_0 = D_n q^{m} + D_0 \\sum_{i=0}^{m-1} q^i\n",
    "\\end{align*}\n",
    "\n",
    "Let's try substituting some first few equations:\n",
    "\\begin{align*}\n",
    "    D_0 &= D_0 \\\\\n",
    "    D_1 &= D_0 q^m + D_0 \\sum_{i=0}^{m-1} q^i = D_0 \\sum_{i=0}^{m} q^i\\\\\n",
    "    D_2 &= D_1 q^m + D_0 \\sum_{i=0}^{m-1} q^i = D_0 \\sum_{i=m}^{2m} q^i + D_0 \\sum_{i=0}^{m-1} q^i = D_0 \\sum_{i=0}^{2m} q^i  \\\\\n",
    "    D_3 &= D_2 q^m + D_0 \\sum_{i=0}^{m-1} q^i = D_0 \\sum_{i=m}^{3m} q^i + D_0 \\sum_{i=0}^{m-1} q^i = D_0 \\sum_{i=0}^{3m} q^i  \\\\\n",
    "    \\vdots\n",
    "\\end{align*}\n",
    "so our conjecture is that $D_n = D_0 \\sum_{i=0}^{nm} q^i$\n",
    "\n",
    "##### Theorem\n",
    "$D_n = D_0 \\sum_{i=0}^{nm} q^i$\n",
    "\n",
    "##### Proof by induction\n",
    "For $n=1$ we have $D_1 = D_0 q^m + D_0 \\sum_{i=0}^{m-1} = D_0 \\sum_{i=0}^{m}$ by definition.\n",
    "\n",
    "IH: $D_n = D_0 \\sum_{i=0}^{nm} q^i$\n",
    "\n",
    "IS: $D_{n+1} = D_n q^m + D_0 \\sum_{i=0}^{m-1} = \\left( D_0 \\sum_{i=0}^{nm} q^i \\right) q^m + D_0 \\sum_{i=0}^{m-1} q^i = D_0 \\sum_{i=m}^{(n+1)m} q^i + D_0 \\sum_{i=0}^{m-1} q^i = D_0 \\sum_{i=0}^{(n+1)m} q^i$ and that finishes the proof.\n",
    "\n",
    "##### Corollary\n",
    "$D_n = D_0 \\cdot \\frac{1 - (1 + r)^{nm+1}}{-r}.$\n",
    "\n",
    "##### Proof\n",
    "We know the formula for geometric series: $\\sum_{i=0}^{nm} q^i = \\frac{1-q^{nm+1}}{1-q} = \\frac{1 - (1 + r)^{nm+1}}{-r}.$"
   ]
  },
  {
   "cell_type": "markdown",
   "metadata": {},
   "source": [
    "It is easy to see and prove by induction, that if we have initial deposit $D_0$ and different contribution per compound $c$ then the general formula changes to:\n",
    "$D_n = D_0 q^{nm} + c \\sum_{i=0}^{nm-1} q^i$ and $D_n = D_0 q^{nm} + c \\cdot \\frac{1 - q^{nm}}{1-q}$"
   ]
  },
  {
   "cell_type": "code",
   "execution_count": 6,
   "metadata": {},
   "outputs": [],
   "source": [
    "def contribute_deposit_years(initial_deposit: float, years: int, frequency: int,\n",
    "                  interest: float, tax: float = 0.19, contribution: float = 0, contrib_years: int = 0):\n",
    "    \"\"\"Calculate deposit amount after number of years.\"\"\"\n",
    "    if contribution == 0: # not contributing, then exponential function\n",
    "        D_n = initial_deposit * (1 + interest * (1 - tax) / frequency)**(years * frequency)\n",
    "        return D_n\n",
    "    else: # contributing then geometric series\n",
    "        contribution = contribution / frequency\n",
    "        r = interest / frequency * (1-tax)\n",
    "        c_y = contrib_years # years with contributing\n",
    "        n_y = years - contrib_years # years without contributing\n",
    "        D_c_y = (initial_deposit\n",
    "               * (1 + r)**(c_y * frequency)\n",
    "               + contribution * (1 - (1+r)**(c_y*frequency)) / (-r) ) # deposit after years of contribution\n",
    "        D_n = deposit_years(D_c_y, years=n_y, frequency=frequency, interest=interest, tax=tax) # deposit after years without contributing\n",
    "        return D_n\n",
    "\n",
    "def contribute_deposit(initial_deposit: float, n: int, frequency: int, interest: float,\n",
    "            tax: float = 0.19, contribution: float = 0, contrib_periods: int = 0):\n",
    "    \"\"\"Calculate deposit amount after n compound periods.\"\"\"\n",
    "    if contribution == 0: # not contributing, then exponential function\n",
    "        D_n = initial_deposit * (1 + interest * (1 - tax) / frequency)**n\n",
    "        return D_n\n",
    "    else: # contributing then geometric series\n",
    "        r = interest / frequency * (1-tax)\n",
    "        contribution /= frequency\n",
    "        func = lambda x: contrib_periods if x >= contrib_periods else x\n",
    "        c_n =  np.array(list(map(func, n))) # periods with contributing\n",
    "        n_n = n - contrib_periods # periods without contributing\n",
    "        D_c_y = (initial_deposit\n",
    "                 * (1 + r)**c_n\n",
    "                 + contribution * (1 - (1+r)**c_n) / (-r) ) # deposit after periods of contribution\n",
    "        D_n = deposit(D_c_y, n=n_n, frequency=frequency, interest=interest, tax=tax) # deposit after periods without contributing\n",
    "        return D_n\n",
    "\n",
    "d1 = contribute_deposit_years(initial_deposit=2000, years=65-22, frequency=1, interest=0.06, tax=0.19, contrib_years=39-22, contribution=2000)\n",
    "d2 = contribute_deposit_years(initial_deposit=2000, years=66-31, frequency=1, interest=0.06, tax=0.19, contrib_years=66-31, contribution=2000)"
   ]
  },
  {
   "cell_type": "code",
   "execution_count": 7,
   "metadata": {},
   "outputs": [],
   "source": [
    "def deposit_test(initial_deposit: float, n: int, frequency: int, interest: float,\n",
    "                 tax: float = 0.19, contribution: float = 0, contrib_periods: int = 0):\n",
    "    \"\"\"Compute deposit amount after n compound periods.\"\"\"\n",
    "    d_n = initial_deposit\n",
    "    r = interest / frequency * (1-tax)\n",
    "    for i in range(contrib_periods):\n",
    "        d_n = d_n * (1+r) + contribution\n",
    "        print(f'period={i+1} with contribution, deposit={d_n:.2f}')\n",
    "    for i in range(n - contrib_periods):\n",
    "        d_n = d_n * (1+r)\n",
    "        print(f'period={i+1} without contribution, deposit={d_n:.2f}')\n",
    "    return d_n\n",
    "\n",
    "#deposit_test(initial_deposit=2000, n=65-22, frequency=1, interest=0.06, tax=0, contrib_periods=39-22, contribution=2000)\n",
    "#deposit_test(initial_deposit=2000, n=66-31, frequency=1, interest=0.06, tax=0, contrib_periods=66-31, contribution=2000)\n",
    "#deposit_test(initial_deposit=1000, n=20*12, frequency=12, interest=0.05, tax=0.19, contrib_periods=10*12, contribution=1000/12)\n",
    "#deposit_years(initial_deposit=1000, years=20, frequency=12, interest=0.05, tax=0.19, contrib_years=10, contribution=1000)"
   ]
  },
  {
   "cell_type": "markdown",
   "metadata": {},
   "source": [
    "### Calculators and plots"
   ]
  },
  {
   "cell_type": "code",
   "execution_count": 8,
   "metadata": {},
   "outputs": [
    {
     "data": {
      "application/vnd.jupyter.widget-view+json": {
       "model_id": "2d7ba0f2ab5547c3bf82f9ded0b5e64c",
       "version_major": 2,
       "version_minor": 0
      },
      "text/plain": [
       "interactive(children=(FloatText(value=1000.0, description='Deposit:', step=100.0), IntRangeSlider(value=(0, 40…"
      ]
     },
     "metadata": {},
     "output_type": "display_data"
    }
   ],
   "source": [
    "def plot_deposit(initial_deposit: float, years: Tuple[int, int], frequencies: str, interests: str,\n",
    "                 tax: float = 0.19, contribution: float = 0, contrib_years: int = 0):\n",
    "    \"\"\"Plot deposit amount as a function of periods for different compounding frequencies.\"\"\"\n",
    "    years_range = np.arange(1, years[1]+1)\n",
    "    frequencies = list(map(int, frequencies.split(',')))\n",
    "    interests = list(map(float, interests.split(',')))\n",
    "    for m, p in zip(frequencies, interests):\n",
    "        d_n = deposit_years(initial_deposit, years_range, m, p, tax, contribution, contrib_years)\n",
    "        plt.plot(years_range, d_n)\n",
    "    plt.xlabel('years')\n",
    "    plt.ylabel('amount')\n",
    "    plt.xlim(*years)\n",
    "    plt.title(f'Investment: {initial_deposit+contribution*contrib_years:.2f}')\n",
    "    plt.legend(labels=list(zip(frequencies, interests)), title='Frequency and interest')\n",
    "    plt.show()\n",
    "\n",
    "interact(plot_deposit, initial_deposit=deposit_text, years=years_range_slider, frequencies=frequencies_text,\n",
    "         interests=interest_text, tax=tax_slider, contribution=contribution_text, contrib_years=contribution_years_slider);"
   ]
  },
  {
   "cell_type": "markdown",
   "metadata": {},
   "source": [
    "## Inflation\n",
    "We know that prices are going up with each year and we call this factor an inflation (let's denote it as $f$). If the prices are twice as much as last year, then $f=100\\%$. It affects your deposit, because you can buy twice less. What is the relation between your deposit and future worth of it? Let's say that we have $D_n$ deposit at $n$-th period, we can buy $m$ goods for a price of $c_n$ and the rate of inflation at this period is $f$, then:\n",
    "\n",
    "\\begin{cases}\n",
    "    D_n &= m \\cdot c_n, \\\\\n",
    "    c_{n+1} &= (1+f) c_n.\n",
    "\\end{cases}\n",
    "\n",
    "If we want to uphold this equality in the next period we need to increase our deposit:\n",
    "\\begin{equation}\n",
    "    D_n &= m \\cdot \\frac{c_{n+1}}{1+f}, \\\\\n",
    "    (1+f) D_n &= m \\cdot c_{n+1}, \\\\\n",
    "    D_{n+1} &= m \\cdot c_{n+1}.\n",
    "\\end{equation}\n",
    "\n",
    "So in the next period we need to have $D_{n+1} = (1+f) D_n$. It means, that we need more money, to buy the same amount of things."
   ]
  },
  {
   "cell_type": "markdown",
   "metadata": {},
   "source": [
    "##### Example\n",
    "Given 100 zł, with yearly inflation rate of 10\\% , next year you will need 110 zł to buy the same amount of things.\n",
    "\n",
    "You have 100 zł, what will the worth of it next year with the same parameters as before? We have to reverse equation, as we are now asking about future $D_{n+1} = 100$ and want to know the value in present so $D_n$:\n",
    "\\begin{equation}\n",
    "    D_{n} = \\frac{D_{n+1}}{1+f} = \\frac{100}{1.1} = 90,91.\n",
    "\\end{equation}\n",
    "\n",
    "It is easy to see that with the formula is:\n",
    "\\begin{equation}\n",
    "    D_{n-1} = D_n\\left( 1+f \\right)^{-1}.\n",
    "\\end{equation}"
   ]
  },
  {
   "cell_type": "markdown",
   "metadata": {},
   "source": [
    "### Compound frequency\n",
    " Let $D_N$ be the last deposit, $f\\%$ periodic inflation rate, $m$ frequency of compounding and denote $D_{n,k}, \\; k=0,\\ldots, m$ as deposit amount in $n$-th period and $k$-th compounding. Also for convenience denote $D_n = D_{n,0} = D_{n-1, m}, \\; D_{N,0} = D_N$ as deposit after $n$ periods.\n",
    "\n",
    "\\begin{cases}\n",
    "    D_{n,m} & = D_{n+1} \\\\\n",
    "    D_{n,m-1} & = D_{n,m} \\left( 1 + \\frac{f}{m}\\% \\right)^{-1} = D_{n+1} \\left( 1 + \\frac{f}{m}\\% \\right)^{-1} \\\\\n",
    "    D_{n,m-2} & = D_{n,m-1} \\left( 1 + \\frac{f}{m}\\% \\right)^{-1} = D_{n+1} \\left( 1 + \\frac{f}{m}\\% \\right)^{-2} \\\\\n",
    "    \\vdots \\\\\n",
    "    D_{n,1} & = D_{n, 2} \\left( 1 + \\frac{f}{m}\\% \\right)^{-1} = D_{n+1} \\left( 1 + \\frac{f}{m}\\% \\right)^{-(m-1)} \\\\\n",
    "    D_{n,0} & = D_{n, 1} \\left( 1 + \\frac{f}{m}\\% \\right)^{-1} = D_{n+1} \\left( 1 + \\frac{f}{m}\\% \\right)^{-(m-0)}\n",
    "\\end{cases}\n",
    "\n",
    "We can see that $D_{n,k} = D_{n+1} \\left( 1 + \\frac{f}{m}\\% \\right)^{-(m-k)}$. Substituting equations from top to the bottom we will get that $D_{n} = D_{n+1} \\left( 1 + \\frac{f}{m}\\% \\right)^{-m}$\n",
    "\n",
    "##### Theorem\n",
    "The deposit amount in $n$-th period ($n \\in \\left[0, N \\right]$), given last deposit amount $D_N$ (after $N$ periods) with $f\\%$ with inflation rate and $m$ frequency of compounding, i.e. $D_n$ is equal to $D_N \\left( 1 + \\frac{f}{m}\\% \\right)^{-m(N-n)}$.\n",
    "\n",
    "##### Proof by induction\n",
    "For $n=N$ we have: $D_N = D_N \\left( 1 + \\frac{f}{m}\\% \\right)^{-m \\cdot 0}$ by definition.\n",
    "\n",
    "IH: $D_n = D_N \\left( 1 + \\frac{f}{m}\\% \\right)^{-m(N-n)}$\n",
    "\n",
    "IS: $D_{n-1} = D_n \\left( 1 + \\frac{f}{m}\\% \\right)^{-m} = D_N \\left( 1 + \\frac{f}{m}\\% \\right)^{-m(N-n)} \\left( 1 + \\frac{f}{m}\\% \\right)^{-m} = D_N \\left( 1 + \\frac{f}{m}\\% \\right)^{-m(N-(n-1))}$ and that finishes the proof.\n"
   ]
  },
  {
   "cell_type": "markdown",
   "metadata": {},
   "source": [
    "### Continuous inflation\n",
    "It seems that inflation is continuous process? Is it because, there are no discrete jumps between price changes?\n",
    "$D_t = \\lim_{m \\rightarrow \\infty} D_N \\left( 1 + \\frac{f}{m}\\% \\right)^{-m(N-t)} = D_N \\left\\{  \\lim_{m \\rightarrow \\infty} \\left[ \\left( 1 + \\frac{1}{\\frac{m}{f\\%}} \\right)^{\\frac{m}{f\\%}} \\right]^{f\\%} \\right\\}^{-(N-t)} = D_N e^{-f\\%(N-t)}$"
   ]
  },
  {
   "cell_type": "markdown",
   "metadata": {},
   "source": [
    "## Real certificate of deposit\n",
    "In real world scenario inflation always exists, so the money is always depreciating and in usually we lose money instead of earning it in CDs. We can calculate our gains/losses by first applying deposits formula so we know how much we earned and then use inflation formula to get the actual worth of future money in present money terms.\n",
    "\n",
    "Given initial deposit $D_0$ with $p\\%$ periodic interest rate, $s\\%$ tax fee and $m$ frequency of compounding, we calculate amount of deposit after $N$ periods.\n",
    "\\begin{equation}\n",
    "    D_N = D_0 \\left( 1 + \\frac{p\\%}{m} (1 - s\\%) \\right)^{mN} =  D_0 \\left( 1 + \\frac{r}{m} \\right)^{mN}.\n",
    "\\end{equation}\n",
    "\n",
    "Now that we have future value, we can apply inflation formula to get present value $D_0'$ in present money value terms (inflation is a continuous process, but we can simplify it by using discrete approximation, which is really close):\n",
    "\\begin{equation}\n",
    "    D_0' = D_N \\left( 1 + \\frac{f}{m} \\right)^{-mN} = D_0 \\left( 1 + \\frac{r}{m} \\right)^{mN} \\left( 1 + \\frac{f}{m} \\right)^{-mN} = D_0 \\left( \\frac{1 + \\frac{r}{m}}{1 + \\frac{f}{m}} \\right)^{mN} = D_0 \\left( \\frac{m+r}{m+f} \\right)^{mN} = D_0 \\left( 1 + \\frac{r-f}{m+f} \\right)^{mN}.\n",
    "\\end{equation}\n",
    "\n",
    "It is easy to see that if $f=r$ our initial deposit stays the same."
   ]
  },
  {
   "cell_type": "code",
   "execution_count": 9,
   "metadata": {},
   "outputs": [
    {
     "data": {
      "text/plain": [
       "-2050.691244239635"
      ]
     },
     "execution_count": 9,
     "metadata": {},
     "output_type": "execute_result"
    }
   ],
   "source": [
    "def real_deposit(initial_deposit: float, n: int, frequency: int, interest: float, inflation: float, tax: float = 0.19):\n",
    "    return initial_deposit * ( (frequency + interest*(1-tax))/(frequency + inflation) )**n\n",
    "\n",
    "real_deposit(initial_deposit=50_000, n=1, frequency=2, interest=.1, inflation=0.17) - 50_000"
   ]
  },
  {
   "cell_type": "markdown",
   "metadata": {},
   "source": [
    "### Real CD with contribution\n",
    "We just need to apply different formula for deposit with contributions from before:\n",
    "\\begin{equation}\n",
    "    D_N = D_0 (1+r)^{mN} + c \\cdot \\frac{1 - (1+r)^{mN}}{-r},\n",
    "\\end{equation}\n",
    "\n",
    "and apply inflation formula:\n",
    "\\begin{equation}\n",
    "    D_0' = D_N \\left( 1 + \\frac{f}{m} \\right)^{-mN} = \\left[ D_0 (1+r)^{mN} + c \\cdot \\frac{1 - (1+r)^{mN}}{-r} \\right] \\left( 1 + \\frac{f}{m} \\right)^{-mN}.\n",
    "\\end{equation}\n"
   ]
  },
  {
   "cell_type": "code",
   "execution_count": 10,
   "metadata": {},
   "outputs": [
    {
     "data": {
      "text/plain": [
       "-2050.691244239628"
      ]
     },
     "execution_count": 10,
     "metadata": {},
     "output_type": "execute_result"
    }
   ],
   "source": [
    "def inflate(last_deposit: float, N: int, frequency: int, inflation: float):\n",
    "    return last_deposit / (1 + inflation / frequency)**N\n",
    "\n",
    "def real_deposit(initial_deposit: float, n: int, frequency: int, interest: float, inflation: float,\n",
    "                 tax: float = 0.19, contribution: float = 0, contrib_periods: int = 0):\n",
    "    \"\"\"Calculate deposit amount after n compound periods.\"\"\"\n",
    "    d_n =  contribute_deposit(initial_deposit=initial_deposit, n=n, frequency=frequency, interest=interest, tax=tax, contribution=contribution, contrib_periods=contrib_periods)\n",
    "    return inflate(last_deposit=d_n, N=n, frequency=frequency, inflation=inflation)\n",
    "\n",
    "real_deposit(initial_deposit=50_000, n=1, frequency=2, interest=.1, inflation=0.17) - 50_000"
   ]
  },
  {
   "cell_type": "code",
   "execution_count": 13,
   "metadata": {},
   "outputs": [
    {
     "data": {
      "text/plain": "interactive(children=(FloatText(value=1000.0, description='Deposit:', step=100.0), IntRangeSlider(value=(0, 14…",
      "application/vnd.jupyter.widget-view+json": {
       "version_major": 2,
       "version_minor": 0,
       "model_id": "3a46d07b26e24d259b29e948f8d6022d"
      }
     },
     "metadata": {},
     "output_type": "display_data"
    }
   ],
   "source": [
    "def plot_real_deposit(initial_deposit: float, years: Tuple[int, int], frequencies: str, interests: str, inflation: float,\n",
    "                      tax: float = 0.19, contribution: float = 0, contrib_years: int = 0):\n",
    "    \"\"\"Plot deposit amount as a function of periods for different compounding frequencies.\"\"\"\n",
    "    years_range = np.arange(0, years[1] + 1)\n",
    "    frequencies = list(map(int, frequencies.split(',')))\n",
    "    interests = list(map(float, interests.split(',')))\n",
    "    for m, p in zip(frequencies, interests):\n",
    "        d_n = real_deposit(initial_deposit=initial_deposit, n=m*years_range, frequency=m, interest=p,\n",
    "                           inflation=inflation, tax=tax, contribution=contribution, contrib_periods=m*contrib_years)\n",
    "        print(d_n)\n",
    "        plt.plot(years_range, d_n)\n",
    "    plt.xlabel('years')\n",
    "    plt.ylabel('amount')\n",
    "    plt.xlim(*years)\n",
    "    plt.title(f'Investment: {initial_deposit+contribution*contrib_years:.2f}')\n",
    "    plt.legend(labels=list(zip(frequencies, interests)), title='Frequency and interest')\n",
    "    plt.show()\n",
    "\n",
    "interact(plot_real_deposit, initial_deposit=deposit_text, years=years_range_slider, frequencies=frequencies_text, inflation=inflation_slider,\n",
    "         interests=interest_text, tax=tax_slider, contribution=contribution_text, contrib_years=contribution_years_slider);"
   ]
  }
 ],
 "metadata": {
  "kernelspec": {
   "display_name": "Python 3 (ipykernel)",
   "language": "python",
   "name": "python3"
  },
  "language_info": {
   "codemirror_mode": {
    "name": "ipython",
    "version": 3
   },
   "file_extension": ".py",
   "mimetype": "text/x-python",
   "name": "python",
   "nbconvert_exporter": "python",
   "pygments_lexer": "ipython3",
   "version": "3.11.1"
  }
 },
 "nbformat": 4,
 "nbformat_minor": 1
}
