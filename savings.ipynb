{
 "cells": [
  {
   "cell_type": "markdown",
   "source": [
    "# Savings"
   ],
   "metadata": {
    "collapsed": false
   }
  },
  {
   "cell_type": "markdown",
   "source": [
    " ### Time deposit\n",
    " Time deposits normally earn interest, which is normally fixed for the duration of the term and payable upon maturity, though some may be paid periodically during the term, especially with longer-term deposits. Generally, the longer the term and the larger the deposit amount the higher the interest rate that will be offered.\n",
    "\n",
    " source: https://en.wikipedia.org/wiki/Time_deposit"
   ],
   "metadata": {
    "collapsed": false
   }
  },
  {
   "cell_type": "markdown",
   "source": [],
   "metadata": {
    "collapsed": false
   }
  },
  {
   "cell_type": "markdown",
   "source": [
    "### Savings account\n",
    "\n",
    "https://en.wikipedia.org/wiki/Savings_account"
   ],
   "metadata": {
    "collapsed": false
   }
  }
 ],
 "metadata": {
  "kernelspec": {
   "display_name": "Python 3",
   "language": "python",
   "name": "python3"
  },
  "language_info": {
   "codemirror_mode": {
    "name": "ipython",
    "version": 2
   },
   "file_extension": ".py",
   "mimetype": "text/x-python",
   "name": "python",
   "nbconvert_exporter": "python",
   "pygments_lexer": "ipython2",
   "version": "2.7.6"
  }
 },
 "nbformat": 4,
 "nbformat_minor": 0
}
